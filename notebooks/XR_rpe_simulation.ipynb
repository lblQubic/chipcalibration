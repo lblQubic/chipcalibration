{
 "cells": [
  {
   "cell_type": "code",
   "execution_count": 13,
   "outputs": [],
   "source": [
    "import qubic.toolchain as _tc\n",
    "import qubic.rpc_client as _rc\n",
    "import qubitconfig.qchip as _qc\n",
    "from distproc.hwconfig import FPGAConfig, load_channel_configs\n",
    "from pygsti.models import modelconstruction as _mc\n",
    "import numpy as np\n",
    "import matplotlib.pyplot as plt\n",
    "import chipcalibration.xr_rpe as _xrpe\n",
    "from importlib import reload\n",
    "import qubic.state_disc as _sd\n",
    "import chipcalibration.config as _cfg\n",
    "import qubic.job_manager_jpm as _jm\n",
    "import chipcalibration.rabi_experiments as _rabi\n",
    "import logging\n",
    "import pygsti\n",
    "import scipy\n",
    "logging.basicConfig(level=0)"
   ],
   "metadata": {
    "collapsed": false,
    "ExecuteTime": {
     "end_time": "2023-05-11T02:31:59.077791148Z",
     "start_time": "2023-05-11T02:31:59.064394482Z"
    }
   }
  },
  {
   "cell_type": "code",
   "execution_count": 14,
   "outputs": [
    {
     "data": {
      "text/plain": "<module 'qubic.job_manager_jpm' from '/home/jpmarceaux/PycharmProjects/software/qubic/job_manager_jpm.py'>"
     },
     "execution_count": 14,
     "metadata": {},
     "output_type": "execute_result"
    }
   ],
   "source": [
    "reload(_xrpe)\n",
    "reload(_rabi)\n",
    "reload(_jm)"
   ],
   "metadata": {
    "collapsed": false,
    "ExecuteTime": {
     "end_time": "2023-05-11T02:31:59.304560678Z",
     "start_time": "2023-05-11T02:31:59.268744987Z"
    }
   }
  },
  {
   "cell_type": "code",
   "execution_count": 15,
   "outputs": [],
   "source": [
    "target_qid = 'Q2'\n",
    "control_qid = 'Q3'"
   ],
   "metadata": {
    "collapsed": false,
    "ExecuteTime": {
     "end_time": "2023-05-11T02:31:59.504364467Z",
     "start_time": "2023-05-11T02:31:59.461119348Z"
    }
   }
  },
  {
   "cell_type": "code",
   "execution_count": 16,
   "outputs": [],
   "source": [
    "qchipname = 'X4Y2'\n",
    "fpga_config, qchip, channel_config = _cfg.load_configs(qchipname)\n",
    "chanmap = {'Q0':7,'Q2':1,'Q1':4,'Q3':3,'Q4':5,'Q5':6,'Q6':2}"
   ],
   "metadata": {
    "collapsed": false,
    "ExecuteTime": {
     "end_time": "2023-05-11T02:31:59.684076528Z",
     "start_time": "2023-05-11T02:31:59.666812226Z"
    }
   }
  },
  {
   "cell_type": "code",
   "execution_count": 17,
   "outputs": [],
   "source": [
    "runner = _rc.CircuitRunnerClient(ip='192.168.1.247')\n",
    "jobman = _jm.JobManager(fpga_config, channel_config, runner, qchip)"
   ],
   "metadata": {
    "collapsed": false,
    "ExecuteTime": {
     "end_time": "2023-05-11T02:31:59.885020465Z",
     "start_time": "2023-05-11T02:31:59.852903518Z"
    }
   }
  },
  {
   "cell_type": "code",
   "execution_count": 18,
   "outputs": [],
   "source": [
    "def ZX(theta):\n",
    "    return scipy.linalg.expm(-1j/2 * theta * pygsti.sigmazx)"
   ],
   "metadata": {
    "collapsed": false,
    "ExecuteTime": {
     "end_time": "2023-05-11T02:32:00.068370453Z",
     "start_time": "2023-05-11T02:32:00.030773756Z"
    }
   }
  },
  {
   "cell_type": "code",
   "execution_count": 19,
   "outputs": [],
   "source": [
    "# make the processor spec\n",
    "register = [control_qid, target_qid] # these correspond to the actual qubit id's on the qubic device\n",
    "gate_names = ['Gxpi2', 'Gzpi2', 'Gcr']\n",
    "\n",
    "availability = {\n",
    "    'Gxpi2': [(qid, ) for qid in register],\n",
    "    'Gzpi2': [(qid, ) for qid in register],\n",
    "    'Gcr': [(control_qid, target_qid)],\n",
    "}\n",
    "\n",
    "pspec = pygsti.processors.QubitProcessorSpec(num_qubits=len(register), gate_names=gate_names,\n",
    "                                 availability=availability, qubit_labels=register,\n",
    "                                 nonstd_gate_unitaries={'Gcr' : ZX(np.pi/2)})\n",
    "target_model = model = _mc.create_explicit_model(pspec)"
   ],
   "metadata": {
    "collapsed": false,
    "ExecuteTime": {
     "end_time": "2023-05-11T02:32:00.257319280Z",
     "start_time": "2023-05-11T02:32:00.217211035Z"
    }
   }
  },
  {
   "cell_type": "code",
   "execution_count": 20,
   "outputs": [],
   "source": [
    "#Make a noisy model for simulation\n",
    "noisy_model_0 = target_model.copy()\n",
    "noisy_model_0.set_all_parameterizations('full')\n",
    "delta = 0.1\n",
    "noisy_model_0['Gcr',register[0],register[1]] = pygsti.unitary_to_pauligate(ZX(np.pi/2+delta))\n",
    "noisy_model_0 = noisy_model_0.depolarize(0.1)"
   ],
   "metadata": {
    "collapsed": false,
    "ExecuteTime": {
     "end_time": "2023-05-11T02:32:00.480579074Z",
     "start_time": "2023-05-11T02:32:00.413834326Z"
    }
   }
  },
  {
   "cell_type": "code",
   "execution_count": 21,
   "outputs": [],
   "source": [
    "# make a pygsti simulation manager\n",
    "sim_manager = _jm.SimulationManager(noisy_model_0)"
   ],
   "metadata": {
    "collapsed": false,
    "ExecuteTime": {
     "end_time": "2023-05-11T02:32:00.668995919Z",
     "start_time": "2023-05-11T02:32:00.620404793Z"
    }
   }
  },
  {
   "cell_type": "code",
   "execution_count": 22,
   "outputs": [],
   "source": [
    "xr_rpe = _xrpe.RPE_XR_Experiment(noisy_model_0, control_qid, target_qid, max_max_depth=9)"
   ],
   "metadata": {
    "collapsed": false,
    "ExecuteTime": {
     "end_time": "2023-05-11T02:32:00.874356135Z",
     "start_time": "2023-05-11T02:32:00.846790072Z"
    }
   }
  },
  {
   "cell_type": "code",
   "execution_count": 23,
   "outputs": [
    {
     "name": "stdout",
     "output_type": "stream",
     "text": [
      "Last good generation: 4\n",
      "Estimated phase: 1.7214291908354853\n"
     ]
    },
    {
     "data": {
      "text/plain": "<pyrpe.src.quapack.pyRPE.classical.RobustPhaseEstimation at 0x7f803b849bd0>"
     },
     "execution_count": 23,
     "metadata": {},
     "output_type": "execute_result"
    }
   ],
   "source": [
    "xr_rpe.run_and_report(sim_manager, 1000, qchip)"
   ],
   "metadata": {
    "collapsed": false,
    "ExecuteTime": {
     "end_time": "2023-05-11T02:32:01.225447178Z",
     "start_time": "2023-05-11T02:32:01.088694754Z"
    }
   }
  },
  {
   "cell_type": "code",
   "execution_count": 24,
   "outputs": [
    {
     "data": {
      "text/plain": "1.5707963267948966"
     },
     "execution_count": 24,
     "metadata": {},
     "output_type": "execute_result"
    }
   ],
   "source": [
    "np.pi/2"
   ],
   "metadata": {
    "collapsed": false,
    "ExecuteTime": {
     "end_time": "2023-05-11T02:32:03.002713591Z",
     "start_time": "2023-05-11T02:32:02.950224392Z"
    }
   }
  },
  {
   "cell_type": "code",
   "execution_count": null,
   "outputs": [],
   "source": [],
   "metadata": {
    "collapsed": false
   }
  }
 ],
 "metadata": {
  "kernelspec": {
   "display_name": "Python 3",
   "language": "python",
   "name": "python3"
  },
  "language_info": {
   "codemirror_mode": {
    "name": "ipython",
    "version": 2
   },
   "file_extension": ".py",
   "mimetype": "text/x-python",
   "name": "python",
   "nbconvert_exporter": "python",
   "pygments_lexer": "ipython2",
   "version": "2.7.6"
  }
 },
 "nbformat": 4,
 "nbformat_minor": 0
}
