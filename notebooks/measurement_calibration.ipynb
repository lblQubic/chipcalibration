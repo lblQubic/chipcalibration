{
 "cells": [
  {
   "cell_type": "code",
   "execution_count": 2,
   "metadata": {
    "collapsed": true,
    "ExecuteTime": {
     "end_time": "2023-05-10T04:04:21.955245299Z",
     "start_time": "2023-05-10T04:04:20.468983411Z"
    }
   },
   "outputs": [
    {
     "name": "stdout",
     "output_type": "stream",
     "text": [
      "warning: failed to import ipdb\n",
      "warning: could not import ipdb\n",
      "warning: failed to import ipdb\n"
     ]
    }
   ],
   "source": [
    "import qubic.toolchain as _tc\n",
    "import qubic.rpc_client as _rc\n",
    "import qubitconfig.qchip as _qc\n",
    "from distproc.hwconfig import FPGAConfig, load_channel_configs\n",
    "import numpy as np\n",
    "import matplotlib.pyplot as plt\n",
    "from importlib import reload\n",
    "import qubic.state_disc as _sd\n",
    "import chipcalibration.config as _cfg\n",
    "import qubic.job_manager_jpm as _jm\n",
    "from qubic.state_disc import GMMManager\n",
    "import chipcalibration.measurement as _meas"
   ]
  },
  {
   "cell_type": "code",
   "execution_count": 3,
   "outputs": [
    {
     "data": {
      "text/plain": "<module 'chipcalibration.measurement' from '/home/jpmarceaux/PycharmProjects/chipcalibration/chipcalibration/measurement.py'>"
     },
     "execution_count": 3,
     "metadata": {},
     "output_type": "execute_result"
    }
   ],
   "source": [
    "reload(_meas)"
   ],
   "metadata": {
    "collapsed": false,
    "ExecuteTime": {
     "end_time": "2023-05-10T04:04:21.966258021Z",
     "start_time": "2023-05-10T04:04:21.956095083Z"
    }
   }
  },
  {
   "cell_type": "code",
   "execution_count": 4,
   "outputs": [],
   "source": [
    "fpga_config = FPGAConfig(**{'fpga_clk_period': 2.e-9, 'alu_instr_clks': 5, 'jump_cond_clks': 5, 'jump_fproc_clks': 5, 'pulse_regwrite_clks': 3})\n",
    "\n",
    "qchipname = 'X4Y2'\n",
    "fpga_config, qchip, channel_config = _cfg.load_configs(qchipname)"
   ],
   "metadata": {
    "collapsed": false,
    "ExecuteTime": {
     "end_time": "2023-05-10T04:05:22.155476823Z",
     "start_time": "2023-05-10T04:05:22.128004490Z"
    }
   }
  },
  {
   "cell_type": "code",
   "execution_count": 37,
   "outputs": [],
   "source": [
    "target = 'Q3'"
   ],
   "metadata": {
    "collapsed": false,
    "ExecuteTime": {
     "end_time": "2023-05-10T04:10:44.634973453Z",
     "start_time": "2023-05-10T04:10:44.623322687Z"
    }
   }
  },
  {
   "cell_type": "code",
   "execution_count": 39,
   "outputs": [
    {
     "data": {
      "text/plain": "0.017906057102356918"
     },
     "execution_count": 39,
     "metadata": {},
     "output_type": "execute_result"
    }
   ],
   "source": [
    "qchip.gates[f'{target}read'].cfg_dict[0]['amp']"
   ],
   "metadata": {
    "collapsed": false,
    "ExecuteTime": {
     "end_time": "2023-05-10T04:12:59.539575861Z",
     "start_time": "2023-05-10T04:12:59.471800647Z"
    }
   }
  },
  {
   "cell_type": "code",
   "execution_count": 40,
   "outputs": [],
   "source": [
    "qchip_freq = qchip.qubits['Q3'].readfreq\n",
    "qchip_amp = qchip.gates[f'{target}read'].cfg_dict[0]['amp']\n",
    "freq_bandwidth = 3e6\n",
    "amp_interval = np.linspace(0.0005, 0.05, 10)\n",
    "freq_interval = np.linspace(qchip_freq-freq_bandwidth, qchip_freq+freq_bandwidth, 10)"
   ],
   "metadata": {
    "collapsed": false,
    "ExecuteTime": {
     "end_time": "2023-05-10T04:14:07.843127689Z",
     "start_time": "2023-05-10T04:14:07.830715055Z"
    }
   }
  },
  {
   "cell_type": "code",
   "execution_count": 41,
   "outputs": [],
   "source": [
    "mcal = _meas.MeasurementCalibration(target, amp_interval, freq_interval, channel_config)"
   ],
   "metadata": {
    "collapsed": false,
    "ExecuteTime": {
     "end_time": "2023-05-10T04:14:27.786899831Z",
     "start_time": "2023-05-10T04:14:27.742949283Z"
    }
   }
  },
  {
   "cell_type": "code",
   "execution_count": 42,
   "outputs": [
    {
     "data": {
      "text/plain": "OrderedDict([((0, 0),\n              [{'name': 'delay', 't': 0.0004},\n               {'name': 'X90', 'qubit': ['Q3']},\n               {'name': 'read',\n                'qubit': ['Q3'],\n                'modi': {(0, 'amp'): 0.0005,\n                 (0, 'fcarrier'): 6697437825.423339,\n                 (1, 'fcarrier'): 6697437825.423339}}]),\n             ((0, 1),\n              [{'name': 'delay', 't': 0.0004},\n               {'name': 'X90', 'qubit': ['Q3']},\n               {'name': 'read',\n                'qubit': ['Q3'],\n                'modi': {(0, 'amp'): 0.0005,\n                 (0, 'fcarrier'): 6698104492.090006,\n                 (1, 'fcarrier'): 6698104492.090006}}]),\n             ((0, 2),\n              [{'name': 'delay', 't': 0.0004},\n               {'name': 'X90', 'qubit': ['Q3']},\n               {'name': 'read',\n                'qubit': ['Q3'],\n                'modi': {(0, 'amp'): 0.0005,\n                 (0, 'fcarrier'): 6698771158.756672,\n                 (1, 'fcarrier'): 6698771158.756672}}]),\n             ((0, 3),\n              [{'name': 'delay', 't': 0.0004},\n               {'name': 'X90', 'qubit': ['Q3']},\n               {'name': 'read',\n                'qubit': ['Q3'],\n                'modi': {(0, 'amp'): 0.0005,\n                 (0, 'fcarrier'): 6699437825.423339,\n                 (1, 'fcarrier'): 6699437825.423339}}]),\n             ((0, 4),\n              [{'name': 'delay', 't': 0.0004},\n               {'name': 'X90', 'qubit': ['Q3']},\n               {'name': 'read',\n                'qubit': ['Q3'],\n                'modi': {(0, 'amp'): 0.0005,\n                 (0, 'fcarrier'): 6700104492.090006,\n                 (1, 'fcarrier'): 6700104492.090006}}]),\n             ((0, 5),\n              [{'name': 'delay', 't': 0.0004},\n               {'name': 'X90', 'qubit': ['Q3']},\n               {'name': 'read',\n                'qubit': ['Q3'],\n                'modi': {(0, 'amp'): 0.0005,\n                 (0, 'fcarrier'): 6700771158.756672,\n                 (1, 'fcarrier'): 6700771158.756672}}]),\n             ((0, 6),\n              [{'name': 'delay', 't': 0.0004},\n               {'name': 'X90', 'qubit': ['Q3']},\n               {'name': 'read',\n                'qubit': ['Q3'],\n                'modi': {(0, 'amp'): 0.0005,\n                 (0, 'fcarrier'): 6701437825.423339,\n                 (1, 'fcarrier'): 6701437825.423339}}]),\n             ((0, 7),\n              [{'name': 'delay', 't': 0.0004},\n               {'name': 'X90', 'qubit': ['Q3']},\n               {'name': 'read',\n                'qubit': ['Q3'],\n                'modi': {(0, 'amp'): 0.0005,\n                 (0, 'fcarrier'): 6702104492.090006,\n                 (1, 'fcarrier'): 6702104492.090006}}]),\n             ((0, 8),\n              [{'name': 'delay', 't': 0.0004},\n               {'name': 'X90', 'qubit': ['Q3']},\n               {'name': 'read',\n                'qubit': ['Q3'],\n                'modi': {(0, 'amp'): 0.0005,\n                 (0, 'fcarrier'): 6702771158.756672,\n                 (1, 'fcarrier'): 6702771158.756672}}]),\n             ((0, 9),\n              [{'name': 'delay', 't': 0.0004},\n               {'name': 'X90', 'qubit': ['Q3']},\n               {'name': 'read',\n                'qubit': ['Q3'],\n                'modi': {(0, 'amp'): 0.0005,\n                 (0, 'fcarrier'): 6703437825.423339,\n                 (1, 'fcarrier'): 6703437825.423339}}]),\n             ((1, 0),\n              [{'name': 'delay', 't': 0.0004},\n               {'name': 'X90', 'qubit': ['Q3']},\n               {'name': 'read',\n                'qubit': ['Q3'],\n                'modi': {(0, 'amp'): 0.006,\n                 (0, 'fcarrier'): 6697437825.423339,\n                 (1, 'fcarrier'): 6697437825.423339}}]),\n             ((1, 1),\n              [{'name': 'delay', 't': 0.0004},\n               {'name': 'X90', 'qubit': ['Q3']},\n               {'name': 'read',\n                'qubit': ['Q3'],\n                'modi': {(0, 'amp'): 0.006,\n                 (0, 'fcarrier'): 6698104492.090006,\n                 (1, 'fcarrier'): 6698104492.090006}}]),\n             ((1, 2),\n              [{'name': 'delay', 't': 0.0004},\n               {'name': 'X90', 'qubit': ['Q3']},\n               {'name': 'read',\n                'qubit': ['Q3'],\n                'modi': {(0, 'amp'): 0.006,\n                 (0, 'fcarrier'): 6698771158.756672,\n                 (1, 'fcarrier'): 6698771158.756672}}]),\n             ((1, 3),\n              [{'name': 'delay', 't': 0.0004},\n               {'name': 'X90', 'qubit': ['Q3']},\n               {'name': 'read',\n                'qubit': ['Q3'],\n                'modi': {(0, 'amp'): 0.006,\n                 (0, 'fcarrier'): 6699437825.423339,\n                 (1, 'fcarrier'): 6699437825.423339}}]),\n             ((1, 4),\n              [{'name': 'delay', 't': 0.0004},\n               {'name': 'X90', 'qubit': ['Q3']},\n               {'name': 'read',\n                'qubit': ['Q3'],\n                'modi': {(0, 'amp'): 0.006,\n                 (0, 'fcarrier'): 6700104492.090006,\n                 (1, 'fcarrier'): 6700104492.090006}}]),\n             ((1, 5),\n              [{'name': 'delay', 't': 0.0004},\n               {'name': 'X90', 'qubit': ['Q3']},\n               {'name': 'read',\n                'qubit': ['Q3'],\n                'modi': {(0, 'amp'): 0.006,\n                 (0, 'fcarrier'): 6700771158.756672,\n                 (1, 'fcarrier'): 6700771158.756672}}]),\n             ((1, 6),\n              [{'name': 'delay', 't': 0.0004},\n               {'name': 'X90', 'qubit': ['Q3']},\n               {'name': 'read',\n                'qubit': ['Q3'],\n                'modi': {(0, 'amp'): 0.006,\n                 (0, 'fcarrier'): 6701437825.423339,\n                 (1, 'fcarrier'): 6701437825.423339}}]),\n             ((1, 7),\n              [{'name': 'delay', 't': 0.0004},\n               {'name': 'X90', 'qubit': ['Q3']},\n               {'name': 'read',\n                'qubit': ['Q3'],\n                'modi': {(0, 'amp'): 0.006,\n                 (0, 'fcarrier'): 6702104492.090006,\n                 (1, 'fcarrier'): 6702104492.090006}}]),\n             ((1, 8),\n              [{'name': 'delay', 't': 0.0004},\n               {'name': 'X90', 'qubit': ['Q3']},\n               {'name': 'read',\n                'qubit': ['Q3'],\n                'modi': {(0, 'amp'): 0.006,\n                 (0, 'fcarrier'): 6702771158.756672,\n                 (1, 'fcarrier'): 6702771158.756672}}]),\n             ((1, 9),\n              [{'name': 'delay', 't': 0.0004},\n               {'name': 'X90', 'qubit': ['Q3']},\n               {'name': 'read',\n                'qubit': ['Q3'],\n                'modi': {(0, 'amp'): 0.006,\n                 (0, 'fcarrier'): 6703437825.423339,\n                 (1, 'fcarrier'): 6703437825.423339}}]),\n             ((2, 0),\n              [{'name': 'delay', 't': 0.0004},\n               {'name': 'X90', 'qubit': ['Q3']},\n               {'name': 'read',\n                'qubit': ['Q3'],\n                'modi': {(0, 'amp'): 0.011500000000000002,\n                 (0, 'fcarrier'): 6697437825.423339,\n                 (1, 'fcarrier'): 6697437825.423339}}]),\n             ((2, 1),\n              [{'name': 'delay', 't': 0.0004},\n               {'name': 'X90', 'qubit': ['Q3']},\n               {'name': 'read',\n                'qubit': ['Q3'],\n                'modi': {(0, 'amp'): 0.011500000000000002,\n                 (0, 'fcarrier'): 6698104492.090006,\n                 (1, 'fcarrier'): 6698104492.090006}}]),\n             ((2, 2),\n              [{'name': 'delay', 't': 0.0004},\n               {'name': 'X90', 'qubit': ['Q3']},\n               {'name': 'read',\n                'qubit': ['Q3'],\n                'modi': {(0, 'amp'): 0.011500000000000002,\n                 (0, 'fcarrier'): 6698771158.756672,\n                 (1, 'fcarrier'): 6698771158.756672}}]),\n             ((2, 3),\n              [{'name': 'delay', 't': 0.0004},\n               {'name': 'X90', 'qubit': ['Q3']},\n               {'name': 'read',\n                'qubit': ['Q3'],\n                'modi': {(0, 'amp'): 0.011500000000000002,\n                 (0, 'fcarrier'): 6699437825.423339,\n                 (1, 'fcarrier'): 6699437825.423339}}]),\n             ((2, 4),\n              [{'name': 'delay', 't': 0.0004},\n               {'name': 'X90', 'qubit': ['Q3']},\n               {'name': 'read',\n                'qubit': ['Q3'],\n                'modi': {(0, 'amp'): 0.011500000000000002,\n                 (0, 'fcarrier'): 6700104492.090006,\n                 (1, 'fcarrier'): 6700104492.090006}}]),\n             ((2, 5),\n              [{'name': 'delay', 't': 0.0004},\n               {'name': 'X90', 'qubit': ['Q3']},\n               {'name': 'read',\n                'qubit': ['Q3'],\n                'modi': {(0, 'amp'): 0.011500000000000002,\n                 (0, 'fcarrier'): 6700771158.756672,\n                 (1, 'fcarrier'): 6700771158.756672}}]),\n             ((2, 6),\n              [{'name': 'delay', 't': 0.0004},\n               {'name': 'X90', 'qubit': ['Q3']},\n               {'name': 'read',\n                'qubit': ['Q3'],\n                'modi': {(0, 'amp'): 0.011500000000000002,\n                 (0, 'fcarrier'): 6701437825.423339,\n                 (1, 'fcarrier'): 6701437825.423339}}]),\n             ((2, 7),\n              [{'name': 'delay', 't': 0.0004},\n               {'name': 'X90', 'qubit': ['Q3']},\n               {'name': 'read',\n                'qubit': ['Q3'],\n                'modi': {(0, 'amp'): 0.011500000000000002,\n                 (0, 'fcarrier'): 6702104492.090006,\n                 (1, 'fcarrier'): 6702104492.090006}}]),\n             ((2, 8),\n              [{'name': 'delay', 't': 0.0004},\n               {'name': 'X90', 'qubit': ['Q3']},\n               {'name': 'read',\n                'qubit': ['Q3'],\n                'modi': {(0, 'amp'): 0.011500000000000002,\n                 (0, 'fcarrier'): 6702771158.756672,\n                 (1, 'fcarrier'): 6702771158.756672}}]),\n             ((2, 9),\n              [{'name': 'delay', 't': 0.0004},\n               {'name': 'X90', 'qubit': ['Q3']},\n               {'name': 'read',\n                'qubit': ['Q3'],\n                'modi': {(0, 'amp'): 0.011500000000000002,\n                 (0, 'fcarrier'): 6703437825.423339,\n                 (1, 'fcarrier'): 6703437825.423339}}]),\n             ((3, 0),\n              [{'name': 'delay', 't': 0.0004},\n               {'name': 'X90', 'qubit': ['Q3']},\n               {'name': 'read',\n                'qubit': ['Q3'],\n                'modi': {(0, 'amp'): 0.017,\n                 (0, 'fcarrier'): 6697437825.423339,\n                 (1, 'fcarrier'): 6697437825.423339}}]),\n             ((3, 1),\n              [{'name': 'delay', 't': 0.0004},\n               {'name': 'X90', 'qubit': ['Q3']},\n               {'name': 'read',\n                'qubit': ['Q3'],\n                'modi': {(0, 'amp'): 0.017,\n                 (0, 'fcarrier'): 6698104492.090006,\n                 (1, 'fcarrier'): 6698104492.090006}}]),\n             ((3, 2),\n              [{'name': 'delay', 't': 0.0004},\n               {'name': 'X90', 'qubit': ['Q3']},\n               {'name': 'read',\n                'qubit': ['Q3'],\n                'modi': {(0, 'amp'): 0.017,\n                 (0, 'fcarrier'): 6698771158.756672,\n                 (1, 'fcarrier'): 6698771158.756672}}]),\n             ((3, 3),\n              [{'name': 'delay', 't': 0.0004},\n               {'name': 'X90', 'qubit': ['Q3']},\n               {'name': 'read',\n                'qubit': ['Q3'],\n                'modi': {(0, 'amp'): 0.017,\n                 (0, 'fcarrier'): 6699437825.423339,\n                 (1, 'fcarrier'): 6699437825.423339}}]),\n             ((3, 4),\n              [{'name': 'delay', 't': 0.0004},\n               {'name': 'X90', 'qubit': ['Q3']},\n               {'name': 'read',\n                'qubit': ['Q3'],\n                'modi': {(0, 'amp'): 0.017,\n                 (0, 'fcarrier'): 6700104492.090006,\n                 (1, 'fcarrier'): 6700104492.090006}}]),\n             ((3, 5),\n              [{'name': 'delay', 't': 0.0004},\n               {'name': 'X90', 'qubit': ['Q3']},\n               {'name': 'read',\n                'qubit': ['Q3'],\n                'modi': {(0, 'amp'): 0.017,\n                 (0, 'fcarrier'): 6700771158.756672,\n                 (1, 'fcarrier'): 6700771158.756672}}]),\n             ((3, 6),\n              [{'name': 'delay', 't': 0.0004},\n               {'name': 'X90', 'qubit': ['Q3']},\n               {'name': 'read',\n                'qubit': ['Q3'],\n                'modi': {(0, 'amp'): 0.017,\n                 (0, 'fcarrier'): 6701437825.423339,\n                 (1, 'fcarrier'): 6701437825.423339}}]),\n             ((3, 7),\n              [{'name': 'delay', 't': 0.0004},\n               {'name': 'X90', 'qubit': ['Q3']},\n               {'name': 'read',\n                'qubit': ['Q3'],\n                'modi': {(0, 'amp'): 0.017,\n                 (0, 'fcarrier'): 6702104492.090006,\n                 (1, 'fcarrier'): 6702104492.090006}}]),\n             ((3, 8),\n              [{'name': 'delay', 't': 0.0004},\n               {'name': 'X90', 'qubit': ['Q3']},\n               {'name': 'read',\n                'qubit': ['Q3'],\n                'modi': {(0, 'amp'): 0.017,\n                 (0, 'fcarrier'): 6702771158.756672,\n                 (1, 'fcarrier'): 6702771158.756672}}]),\n             ((3, 9),\n              [{'name': 'delay', 't': 0.0004},\n               {'name': 'X90', 'qubit': ['Q3']},\n               {'name': 'read',\n                'qubit': ['Q3'],\n                'modi': {(0, 'amp'): 0.017,\n                 (0, 'fcarrier'): 6703437825.423339,\n                 (1, 'fcarrier'): 6703437825.423339}}]),\n             ((4, 0),\n              [{'name': 'delay', 't': 0.0004},\n               {'name': 'X90', 'qubit': ['Q3']},\n               {'name': 'read',\n                'qubit': ['Q3'],\n                'modi': {(0, 'amp'): 0.022500000000000003,\n                 (0, 'fcarrier'): 6697437825.423339,\n                 (1, 'fcarrier'): 6697437825.423339}}]),\n             ((4, 1),\n              [{'name': 'delay', 't': 0.0004},\n               {'name': 'X90', 'qubit': ['Q3']},\n               {'name': 'read',\n                'qubit': ['Q3'],\n                'modi': {(0, 'amp'): 0.022500000000000003,\n                 (0, 'fcarrier'): 6698104492.090006,\n                 (1, 'fcarrier'): 6698104492.090006}}]),\n             ((4, 2),\n              [{'name': 'delay', 't': 0.0004},\n               {'name': 'X90', 'qubit': ['Q3']},\n               {'name': 'read',\n                'qubit': ['Q3'],\n                'modi': {(0, 'amp'): 0.022500000000000003,\n                 (0, 'fcarrier'): 6698771158.756672,\n                 (1, 'fcarrier'): 6698771158.756672}}]),\n             ((4, 3),\n              [{'name': 'delay', 't': 0.0004},\n               {'name': 'X90', 'qubit': ['Q3']},\n               {'name': 'read',\n                'qubit': ['Q3'],\n                'modi': {(0, 'amp'): 0.022500000000000003,\n                 (0, 'fcarrier'): 6699437825.423339,\n                 (1, 'fcarrier'): 6699437825.423339}}]),\n             ((4, 4),\n              [{'name': 'delay', 't': 0.0004},\n               {'name': 'X90', 'qubit': ['Q3']},\n               {'name': 'read',\n                'qubit': ['Q3'],\n                'modi': {(0, 'amp'): 0.022500000000000003,\n                 (0, 'fcarrier'): 6700104492.090006,\n                 (1, 'fcarrier'): 6700104492.090006}}]),\n             ((4, 5),\n              [{'name': 'delay', 't': 0.0004},\n               {'name': 'X90', 'qubit': ['Q3']},\n               {'name': 'read',\n                'qubit': ['Q3'],\n                'modi': {(0, 'amp'): 0.022500000000000003,\n                 (0, 'fcarrier'): 6700771158.756672,\n                 (1, 'fcarrier'): 6700771158.756672}}]),\n             ((4, 6),\n              [{'name': 'delay', 't': 0.0004},\n               {'name': 'X90', 'qubit': ['Q3']},\n               {'name': 'read',\n                'qubit': ['Q3'],\n                'modi': {(0, 'amp'): 0.022500000000000003,\n                 (0, 'fcarrier'): 6701437825.423339,\n                 (1, 'fcarrier'): 6701437825.423339}}]),\n             ((4, 7),\n              [{'name': 'delay', 't': 0.0004},\n               {'name': 'X90', 'qubit': ['Q3']},\n               {'name': 'read',\n                'qubit': ['Q3'],\n                'modi': {(0, 'amp'): 0.022500000000000003,\n                 (0, 'fcarrier'): 6702104492.090006,\n                 (1, 'fcarrier'): 6702104492.090006}}]),\n             ((4, 8),\n              [{'name': 'delay', 't': 0.0004},\n               {'name': 'X90', 'qubit': ['Q3']},\n               {'name': 'read',\n                'qubit': ['Q3'],\n                'modi': {(0, 'amp'): 0.022500000000000003,\n                 (0, 'fcarrier'): 6702771158.756672,\n                 (1, 'fcarrier'): 6702771158.756672}}]),\n             ((4, 9),\n              [{'name': 'delay', 't': 0.0004},\n               {'name': 'X90', 'qubit': ['Q3']},\n               {'name': 'read',\n                'qubit': ['Q3'],\n                'modi': {(0, 'amp'): 0.022500000000000003,\n                 (0, 'fcarrier'): 6703437825.423339,\n                 (1, 'fcarrier'): 6703437825.423339}}]),\n             ((5, 0),\n              [{'name': 'delay', 't': 0.0004},\n               {'name': 'X90', 'qubit': ['Q3']},\n               {'name': 'read',\n                'qubit': ['Q3'],\n                'modi': {(0, 'amp'): 0.028000000000000004,\n                 (0, 'fcarrier'): 6697437825.423339,\n                 (1, 'fcarrier'): 6697437825.423339}}]),\n             ((5, 1),\n              [{'name': 'delay', 't': 0.0004},\n               {'name': 'X90', 'qubit': ['Q3']},\n               {'name': 'read',\n                'qubit': ['Q3'],\n                'modi': {(0, 'amp'): 0.028000000000000004,\n                 (0, 'fcarrier'): 6698104492.090006,\n                 (1, 'fcarrier'): 6698104492.090006}}]),\n             ((5, 2),\n              [{'name': 'delay', 't': 0.0004},\n               {'name': 'X90', 'qubit': ['Q3']},\n               {'name': 'read',\n                'qubit': ['Q3'],\n                'modi': {(0, 'amp'): 0.028000000000000004,\n                 (0, 'fcarrier'): 6698771158.756672,\n                 (1, 'fcarrier'): 6698771158.756672}}]),\n             ((5, 3),\n              [{'name': 'delay', 't': 0.0004},\n               {'name': 'X90', 'qubit': ['Q3']},\n               {'name': 'read',\n                'qubit': ['Q3'],\n                'modi': {(0, 'amp'): 0.028000000000000004,\n                 (0, 'fcarrier'): 6699437825.423339,\n                 (1, 'fcarrier'): 6699437825.423339}}]),\n             ((5, 4),\n              [{'name': 'delay', 't': 0.0004},\n               {'name': 'X90', 'qubit': ['Q3']},\n               {'name': 'read',\n                'qubit': ['Q3'],\n                'modi': {(0, 'amp'): 0.028000000000000004,\n                 (0, 'fcarrier'): 6700104492.090006,\n                 (1, 'fcarrier'): 6700104492.090006}}]),\n             ((5, 5),\n              [{'name': 'delay', 't': 0.0004},\n               {'name': 'X90', 'qubit': ['Q3']},\n               {'name': 'read',\n                'qubit': ['Q3'],\n                'modi': {(0, 'amp'): 0.028000000000000004,\n                 (0, 'fcarrier'): 6700771158.756672,\n                 (1, 'fcarrier'): 6700771158.756672}}]),\n             ((5, 6),\n              [{'name': 'delay', 't': 0.0004},\n               {'name': 'X90', 'qubit': ['Q3']},\n               {'name': 'read',\n                'qubit': ['Q3'],\n                'modi': {(0, 'amp'): 0.028000000000000004,\n                 (0, 'fcarrier'): 6701437825.423339,\n                 (1, 'fcarrier'): 6701437825.423339}}]),\n             ((5, 7),\n              [{'name': 'delay', 't': 0.0004},\n               {'name': 'X90', 'qubit': ['Q3']},\n               {'name': 'read',\n                'qubit': ['Q3'],\n                'modi': {(0, 'amp'): 0.028000000000000004,\n                 (0, 'fcarrier'): 6702104492.090006,\n                 (1, 'fcarrier'): 6702104492.090006}}]),\n             ((5, 8),\n              [{'name': 'delay', 't': 0.0004},\n               {'name': 'X90', 'qubit': ['Q3']},\n               {'name': 'read',\n                'qubit': ['Q3'],\n                'modi': {(0, 'amp'): 0.028000000000000004,\n                 (0, 'fcarrier'): 6702771158.756672,\n                 (1, 'fcarrier'): 6702771158.756672}}]),\n             ((5, 9),\n              [{'name': 'delay', 't': 0.0004},\n               {'name': 'X90', 'qubit': ['Q3']},\n               {'name': 'read',\n                'qubit': ['Q3'],\n                'modi': {(0, 'amp'): 0.028000000000000004,\n                 (0, 'fcarrier'): 6703437825.423339,\n                 (1, 'fcarrier'): 6703437825.423339}}]),\n             ((6, 0),\n              [{'name': 'delay', 't': 0.0004},\n               {'name': 'X90', 'qubit': ['Q3']},\n               {'name': 'read',\n                'qubit': ['Q3'],\n                'modi': {(0, 'amp'): 0.0335,\n                 (0, 'fcarrier'): 6697437825.423339,\n                 (1, 'fcarrier'): 6697437825.423339}}]),\n             ((6, 1),\n              [{'name': 'delay', 't': 0.0004},\n               {'name': 'X90', 'qubit': ['Q3']},\n               {'name': 'read',\n                'qubit': ['Q3'],\n                'modi': {(0, 'amp'): 0.0335,\n                 (0, 'fcarrier'): 6698104492.090006,\n                 (1, 'fcarrier'): 6698104492.090006}}]),\n             ((6, 2),\n              [{'name': 'delay', 't': 0.0004},\n               {'name': 'X90', 'qubit': ['Q3']},\n               {'name': 'read',\n                'qubit': ['Q3'],\n                'modi': {(0, 'amp'): 0.0335,\n                 (0, 'fcarrier'): 6698771158.756672,\n                 (1, 'fcarrier'): 6698771158.756672}}]),\n             ((6, 3),\n              [{'name': 'delay', 't': 0.0004},\n               {'name': 'X90', 'qubit': ['Q3']},\n               {'name': 'read',\n                'qubit': ['Q3'],\n                'modi': {(0, 'amp'): 0.0335,\n                 (0, 'fcarrier'): 6699437825.423339,\n                 (1, 'fcarrier'): 6699437825.423339}}]),\n             ((6, 4),\n              [{'name': 'delay', 't': 0.0004},\n               {'name': 'X90', 'qubit': ['Q3']},\n               {'name': 'read',\n                'qubit': ['Q3'],\n                'modi': {(0, 'amp'): 0.0335,\n                 (0, 'fcarrier'): 6700104492.090006,\n                 (1, 'fcarrier'): 6700104492.090006}}]),\n             ((6, 5),\n              [{'name': 'delay', 't': 0.0004},\n               {'name': 'X90', 'qubit': ['Q3']},\n               {'name': 'read',\n                'qubit': ['Q3'],\n                'modi': {(0, 'amp'): 0.0335,\n                 (0, 'fcarrier'): 6700771158.756672,\n                 (1, 'fcarrier'): 6700771158.756672}}]),\n             ((6, 6),\n              [{'name': 'delay', 't': 0.0004},\n               {'name': 'X90', 'qubit': ['Q3']},\n               {'name': 'read',\n                'qubit': ['Q3'],\n                'modi': {(0, 'amp'): 0.0335,\n                 (0, 'fcarrier'): 6701437825.423339,\n                 (1, 'fcarrier'): 6701437825.423339}}]),\n             ((6, 7),\n              [{'name': 'delay', 't': 0.0004},\n               {'name': 'X90', 'qubit': ['Q3']},\n               {'name': 'read',\n                'qubit': ['Q3'],\n                'modi': {(0, 'amp'): 0.0335,\n                 (0, 'fcarrier'): 6702104492.090006,\n                 (1, 'fcarrier'): 6702104492.090006}}]),\n             ((6, 8),\n              [{'name': 'delay', 't': 0.0004},\n               {'name': 'X90', 'qubit': ['Q3']},\n               {'name': 'read',\n                'qubit': ['Q3'],\n                'modi': {(0, 'amp'): 0.0335,\n                 (0, 'fcarrier'): 6702771158.756672,\n                 (1, 'fcarrier'): 6702771158.756672}}]),\n             ((6, 9),\n              [{'name': 'delay', 't': 0.0004},\n               {'name': 'X90', 'qubit': ['Q3']},\n               {'name': 'read',\n                'qubit': ['Q3'],\n                'modi': {(0, 'amp'): 0.0335,\n                 (0, 'fcarrier'): 6703437825.423339,\n                 (1, 'fcarrier'): 6703437825.423339}}]),\n             ((7, 0),\n              [{'name': 'delay', 't': 0.0004},\n               {'name': 'X90', 'qubit': ['Q3']},\n               {'name': 'read',\n                'qubit': ['Q3'],\n                'modi': {(0, 'amp'): 0.03900000000000001,\n                 (0, 'fcarrier'): 6697437825.423339,\n                 (1, 'fcarrier'): 6697437825.423339}}]),\n             ((7, 1),\n              [{'name': 'delay', 't': 0.0004},\n               {'name': 'X90', 'qubit': ['Q3']},\n               {'name': 'read',\n                'qubit': ['Q3'],\n                'modi': {(0, 'amp'): 0.03900000000000001,\n                 (0, 'fcarrier'): 6698104492.090006,\n                 (1, 'fcarrier'): 6698104492.090006}}]),\n             ((7, 2),\n              [{'name': 'delay', 't': 0.0004},\n               {'name': 'X90', 'qubit': ['Q3']},\n               {'name': 'read',\n                'qubit': ['Q3'],\n                'modi': {(0, 'amp'): 0.03900000000000001,\n                 (0, 'fcarrier'): 6698771158.756672,\n                 (1, 'fcarrier'): 6698771158.756672}}]),\n             ((7, 3),\n              [{'name': 'delay', 't': 0.0004},\n               {'name': 'X90', 'qubit': ['Q3']},\n               {'name': 'read',\n                'qubit': ['Q3'],\n                'modi': {(0, 'amp'): 0.03900000000000001,\n                 (0, 'fcarrier'): 6699437825.423339,\n                 (1, 'fcarrier'): 6699437825.423339}}]),\n             ((7, 4),\n              [{'name': 'delay', 't': 0.0004},\n               {'name': 'X90', 'qubit': ['Q3']},\n               {'name': 'read',\n                'qubit': ['Q3'],\n                'modi': {(0, 'amp'): 0.03900000000000001,\n                 (0, 'fcarrier'): 6700104492.090006,\n                 (1, 'fcarrier'): 6700104492.090006}}]),\n             ((7, 5),\n              [{'name': 'delay', 't': 0.0004},\n               {'name': 'X90', 'qubit': ['Q3']},\n               {'name': 'read',\n                'qubit': ['Q3'],\n                'modi': {(0, 'amp'): 0.03900000000000001,\n                 (0, 'fcarrier'): 6700771158.756672,\n                 (1, 'fcarrier'): 6700771158.756672}}]),\n             ((7, 6),\n              [{'name': 'delay', 't': 0.0004},\n               {'name': 'X90', 'qubit': ['Q3']},\n               {'name': 'read',\n                'qubit': ['Q3'],\n                'modi': {(0, 'amp'): 0.03900000000000001,\n                 (0, 'fcarrier'): 6701437825.423339,\n                 (1, 'fcarrier'): 6701437825.423339}}]),\n             ((7, 7),\n              [{'name': 'delay', 't': 0.0004},\n               {'name': 'X90', 'qubit': ['Q3']},\n               {'name': 'read',\n                'qubit': ['Q3'],\n                'modi': {(0, 'amp'): 0.03900000000000001,\n                 (0, 'fcarrier'): 6702104492.090006,\n                 (1, 'fcarrier'): 6702104492.090006}}]),\n             ((7, 8),\n              [{'name': 'delay', 't': 0.0004},\n               {'name': 'X90', 'qubit': ['Q3']},\n               {'name': 'read',\n                'qubit': ['Q3'],\n                'modi': {(0, 'amp'): 0.03900000000000001,\n                 (0, 'fcarrier'): 6702771158.756672,\n                 (1, 'fcarrier'): 6702771158.756672}}]),\n             ((7, 9),\n              [{'name': 'delay', 't': 0.0004},\n               {'name': 'X90', 'qubit': ['Q3']},\n               {'name': 'read',\n                'qubit': ['Q3'],\n                'modi': {(0, 'amp'): 0.03900000000000001,\n                 (0, 'fcarrier'): 6703437825.423339,\n                 (1, 'fcarrier'): 6703437825.423339}}]),\n             ((8, 0),\n              [{'name': 'delay', 't': 0.0004},\n               {'name': 'X90', 'qubit': ['Q3']},\n               {'name': 'read',\n                'qubit': ['Q3'],\n                'modi': {(0, 'amp'): 0.044500000000000005,\n                 (0, 'fcarrier'): 6697437825.423339,\n                 (1, 'fcarrier'): 6697437825.423339}}]),\n             ((8, 1),\n              [{'name': 'delay', 't': 0.0004},\n               {'name': 'X90', 'qubit': ['Q3']},\n               {'name': 'read',\n                'qubit': ['Q3'],\n                'modi': {(0, 'amp'): 0.044500000000000005,\n                 (0, 'fcarrier'): 6698104492.090006,\n                 (1, 'fcarrier'): 6698104492.090006}}]),\n             ((8, 2),\n              [{'name': 'delay', 't': 0.0004},\n               {'name': 'X90', 'qubit': ['Q3']},\n               {'name': 'read',\n                'qubit': ['Q3'],\n                'modi': {(0, 'amp'): 0.044500000000000005,\n                 (0, 'fcarrier'): 6698771158.756672,\n                 (1, 'fcarrier'): 6698771158.756672}}]),\n             ((8, 3),\n              [{'name': 'delay', 't': 0.0004},\n               {'name': 'X90', 'qubit': ['Q3']},\n               {'name': 'read',\n                'qubit': ['Q3'],\n                'modi': {(0, 'amp'): 0.044500000000000005,\n                 (0, 'fcarrier'): 6699437825.423339,\n                 (1, 'fcarrier'): 6699437825.423339}}]),\n             ((8, 4),\n              [{'name': 'delay', 't': 0.0004},\n               {'name': 'X90', 'qubit': ['Q3']},\n               {'name': 'read',\n                'qubit': ['Q3'],\n                'modi': {(0, 'amp'): 0.044500000000000005,\n                 (0, 'fcarrier'): 6700104492.090006,\n                 (1, 'fcarrier'): 6700104492.090006}}]),\n             ((8, 5),\n              [{'name': 'delay', 't': 0.0004},\n               {'name': 'X90', 'qubit': ['Q3']},\n               {'name': 'read',\n                'qubit': ['Q3'],\n                'modi': {(0, 'amp'): 0.044500000000000005,\n                 (0, 'fcarrier'): 6700771158.756672,\n                 (1, 'fcarrier'): 6700771158.756672}}]),\n             ((8, 6),\n              [{'name': 'delay', 't': 0.0004},\n               {'name': 'X90', 'qubit': ['Q3']},\n               {'name': 'read',\n                'qubit': ['Q3'],\n                'modi': {(0, 'amp'): 0.044500000000000005,\n                 (0, 'fcarrier'): 6701437825.423339,\n                 (1, 'fcarrier'): 6701437825.423339}}]),\n             ((8, 7),\n              [{'name': 'delay', 't': 0.0004},\n               {'name': 'X90', 'qubit': ['Q3']},\n               {'name': 'read',\n                'qubit': ['Q3'],\n                'modi': {(0, 'amp'): 0.044500000000000005,\n                 (0, 'fcarrier'): 6702104492.090006,\n                 (1, 'fcarrier'): 6702104492.090006}}]),\n             ((8, 8),\n              [{'name': 'delay', 't': 0.0004},\n               {'name': 'X90', 'qubit': ['Q3']},\n               {'name': 'read',\n                'qubit': ['Q3'],\n                'modi': {(0, 'amp'): 0.044500000000000005,\n                 (0, 'fcarrier'): 6702771158.756672,\n                 (1, 'fcarrier'): 6702771158.756672}}]),\n             ((8, 9),\n              [{'name': 'delay', 't': 0.0004},\n               {'name': 'X90', 'qubit': ['Q3']},\n               {'name': 'read',\n                'qubit': ['Q3'],\n                'modi': {(0, 'amp'): 0.044500000000000005,\n                 (0, 'fcarrier'): 6703437825.423339,\n                 (1, 'fcarrier'): 6703437825.423339}}]),\n             ((9, 0),\n              [{'name': 'delay', 't': 0.0004},\n               {'name': 'X90', 'qubit': ['Q3']},\n               {'name': 'read',\n                'qubit': ['Q3'],\n                'modi': {(0, 'amp'): 0.05,\n                 (0, 'fcarrier'): 6697437825.423339,\n                 (1, 'fcarrier'): 6697437825.423339}}]),\n             ((9, 1),\n              [{'name': 'delay', 't': 0.0004},\n               {'name': 'X90', 'qubit': ['Q3']},\n               {'name': 'read',\n                'qubit': ['Q3'],\n                'modi': {(0, 'amp'): 0.05,\n                 (0, 'fcarrier'): 6698104492.090006,\n                 (1, 'fcarrier'): 6698104492.090006}}]),\n             ((9, 2),\n              [{'name': 'delay', 't': 0.0004},\n               {'name': 'X90', 'qubit': ['Q3']},\n               {'name': 'read',\n                'qubit': ['Q3'],\n                'modi': {(0, 'amp'): 0.05,\n                 (0, 'fcarrier'): 6698771158.756672,\n                 (1, 'fcarrier'): 6698771158.756672}}]),\n             ((9, 3),\n              [{'name': 'delay', 't': 0.0004},\n               {'name': 'X90', 'qubit': ['Q3']},\n               {'name': 'read',\n                'qubit': ['Q3'],\n                'modi': {(0, 'amp'): 0.05,\n                 (0, 'fcarrier'): 6699437825.423339,\n                 (1, 'fcarrier'): 6699437825.423339}}]),\n             ((9, 4),\n              [{'name': 'delay', 't': 0.0004},\n               {'name': 'X90', 'qubit': ['Q3']},\n               {'name': 'read',\n                'qubit': ['Q3'],\n                'modi': {(0, 'amp'): 0.05,\n                 (0, 'fcarrier'): 6700104492.090006,\n                 (1, 'fcarrier'): 6700104492.090006}}]),\n             ((9, 5),\n              [{'name': 'delay', 't': 0.0004},\n               {'name': 'X90', 'qubit': ['Q3']},\n               {'name': 'read',\n                'qubit': ['Q3'],\n                'modi': {(0, 'amp'): 0.05,\n                 (0, 'fcarrier'): 6700771158.756672,\n                 (1, 'fcarrier'): 6700771158.756672}}]),\n             ((9, 6),\n              [{'name': 'delay', 't': 0.0004},\n               {'name': 'X90', 'qubit': ['Q3']},\n               {'name': 'read',\n                'qubit': ['Q3'],\n                'modi': {(0, 'amp'): 0.05,\n                 (0, 'fcarrier'): 6701437825.423339,\n                 (1, 'fcarrier'): 6701437825.423339}}]),\n             ((9, 7),\n              [{'name': 'delay', 't': 0.0004},\n               {'name': 'X90', 'qubit': ['Q3']},\n               {'name': 'read',\n                'qubit': ['Q3'],\n                'modi': {(0, 'amp'): 0.05,\n                 (0, 'fcarrier'): 6702104492.090006,\n                 (1, 'fcarrier'): 6702104492.090006}}]),\n             ((9, 8),\n              [{'name': 'delay', 't': 0.0004},\n               {'name': 'X90', 'qubit': ['Q3']},\n               {'name': 'read',\n                'qubit': ['Q3'],\n                'modi': {(0, 'amp'): 0.05,\n                 (0, 'fcarrier'): 6702771158.756672,\n                 (1, 'fcarrier'): 6702771158.756672}}]),\n             ((9, 9),\n              [{'name': 'delay', 't': 0.0004},\n               {'name': 'X90', 'qubit': ['Q3']},\n               {'name': 'read',\n                'qubit': ['Q3'],\n                'modi': {(0, 'amp'): 0.05,\n                 (0, 'fcarrier'): 6703437825.423339,\n                 (1, 'fcarrier'): 6703437825.423339}}])])"
     },
     "execution_count": 42,
     "metadata": {},
     "output_type": "execute_result"
    }
   ],
   "source": [
    "mcal.circuits"
   ],
   "metadata": {
    "collapsed": false,
    "ExecuteTime": {
     "end_time": "2023-05-10T04:14:30.526336144Z",
     "start_time": "2023-05-10T04:14:30.506626234Z"
    }
   }
  },
  {
   "cell_type": "code",
   "execution_count": null,
   "outputs": [],
   "source": [],
   "metadata": {
    "collapsed": false
   }
  }
 ],
 "metadata": {
  "kernelspec": {
   "display_name": "Python 3",
   "language": "python",
   "name": "python3"
  },
  "language_info": {
   "codemirror_mode": {
    "name": "ipython",
    "version": 2
   },
   "file_extension": ".py",
   "mimetype": "text/x-python",
   "name": "python",
   "nbconvert_exporter": "python",
   "pygments_lexer": "ipython2",
   "version": "2.7.6"
  }
 },
 "nbformat": 4,
 "nbformat_minor": 0
}
