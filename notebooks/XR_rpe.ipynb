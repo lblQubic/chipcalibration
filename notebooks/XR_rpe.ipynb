{
 "cells": [
  {
   "cell_type": "code",
   "execution_count": 145,
   "outputs": [],
   "source": [
    "import qubic.toolchain as _tc\n",
    "import qubic.rpc_client as _rc\n",
    "import qubitconfig.qchip as _qc\n",
    "from distproc.hwconfig import FPGAConfig, load_channel_configs\n",
    "from pygsti.models import modelconstruction as _mc\n",
    "import numpy as np\n",
    "import matplotlib.pyplot as plt\n",
    "import chipcalibration.xr_rpe as _xrpe\n",
    "from importlib import reload\n",
    "import qubic.state_disc as _sd\n",
    "import chipcalibration.config as _cfg\n",
    "import qubic.job_manager_jpm as _jm\n",
    "import chipcalibration.rabi_experiments as _rabi\n",
    "import logging\n",
    "import pygsti\n",
    "import scipy\n",
    "logging.basicConfig(level=0)"
   ],
   "metadata": {
    "collapsed": false,
    "ExecuteTime": {
     "end_time": "2023-05-11T02:29:38.338780211Z",
     "start_time": "2023-05-11T02:29:38.304087041Z"
    }
   }
  },
  {
   "cell_type": "code",
   "execution_count": 146,
   "outputs": [
    {
     "data": {
      "text/plain": "<module 'qubic.job_manager_jpm' from '/home/jpmarceaux/PycharmProjects/software/qubic/job_manager_jpm.py'>"
     },
     "execution_count": 146,
     "metadata": {},
     "output_type": "execute_result"
    }
   ],
   "source": [
    "reload(_xrpe)\n",
    "reload(_rabi)\n",
    "reload(_jm)"
   ],
   "metadata": {
    "collapsed": false,
    "ExecuteTime": {
     "end_time": "2023-05-11T02:29:38.548623528Z",
     "start_time": "2023-05-11T02:29:38.500134660Z"
    }
   }
  },
  {
   "cell_type": "code",
   "execution_count": 147,
   "outputs": [],
   "source": [
    "target_qid = 'Q2'\n",
    "control_qid = 'Q3'"
   ],
   "metadata": {
    "collapsed": false,
    "ExecuteTime": {
     "end_time": "2023-05-11T02:29:38.781940207Z",
     "start_time": "2023-05-11T02:29:38.699524145Z"
    }
   }
  },
  {
   "cell_type": "code",
   "execution_count": 148,
   "outputs": [],
   "source": [
    "qchipname = 'X4Y2'\n",
    "fpga_config, qchip, channel_config = _cfg.load_configs(qchipname)\n",
    "chanmap = {'Q0':7,'Q2':1,'Q1':4,'Q3':3,'Q4':5,'Q5':6,'Q6':2}"
   ],
   "metadata": {
    "collapsed": false,
    "ExecuteTime": {
     "end_time": "2023-05-11T02:29:38.938156344Z",
     "start_time": "2023-05-11T02:29:38.917292594Z"
    }
   }
  },
  {
   "cell_type": "code",
   "execution_count": 149,
   "outputs": [],
   "source": [
    "runner = _rc.CircuitRunnerClient(ip='192.168.1.247')\n",
    "jobman = _jm.JobManager(fpga_config, channel_config, runner, qchip)"
   ],
   "metadata": {
    "collapsed": false,
    "ExecuteTime": {
     "end_time": "2023-05-11T02:29:39.102406169Z",
     "start_time": "2023-05-11T02:29:39.075288977Z"
    }
   }
  },
  {
   "cell_type": "code",
   "execution_count": 150,
   "outputs": [],
   "source": [
    "def ZX(theta):\n",
    "    return scipy.linalg.expm(-1j/2 * theta * pygsti.sigmazx)"
   ],
   "metadata": {
    "collapsed": false,
    "ExecuteTime": {
     "end_time": "2023-05-11T02:29:39.297978094Z",
     "start_time": "2023-05-11T02:29:39.259784746Z"
    }
   }
  },
  {
   "cell_type": "code",
   "execution_count": 151,
   "outputs": [],
   "source": [
    "# make the processor spec\n",
    "register = [control_qid, target_qid] # these correspond to the actual qubit id's on the qubic device\n",
    "gate_names = ['Gxpi2', 'Gzpi2', 'Gcr']\n",
    "\n",
    "availability = {\n",
    "    'Gxpi2': [(qid, ) for qid in register],\n",
    "    'Gzpi2': [(qid, ) for qid in register],\n",
    "    'Gcr': [(control_qid, target_qid)],\n",
    "}\n",
    "\n",
    "pspec = pygsti.processors.QubitProcessorSpec(num_qubits=len(register), gate_names=gate_names,\n",
    "                                 availability=availability, qubit_labels=register,\n",
    "                                 nonstd_gate_unitaries={'Gcr' : ZX(np.pi/2)})\n",
    "target_model = model = _mc.create_explicit_model(pspec)"
   ],
   "metadata": {
    "collapsed": false,
    "ExecuteTime": {
     "end_time": "2023-05-11T02:29:39.501202823Z",
     "start_time": "2023-05-11T02:29:39.462722780Z"
    }
   }
  },
  {
   "cell_type": "code",
   "execution_count": 192,
   "outputs": [],
   "source": [
    "#Make a noisy model for simulation\n",
    "noisy_model_0 = target_model.copy()\n",
    "noisy_model_0.set_all_parameterizations('full')\n",
    "delta = 0.1\n",
    "noisy_model_0['Gcr',register[0],register[1]] = pygsti.unitary_to_pauligate(ZX(np.pi/2+delta))\n",
    "noisy_model_0 = noisy_model_0.depolarize(0.1)"
   ],
   "metadata": {
    "collapsed": false,
    "ExecuteTime": {
     "end_time": "2023-05-11T02:30:28.660836669Z",
     "start_time": "2023-05-11T02:30:28.626325125Z"
    }
   }
  },
  {
   "cell_type": "code",
   "execution_count": 193,
   "outputs": [],
   "source": [
    "# make a pygsti simulation manager\n",
    "sim_manager = _jm.SimulationManager(noisy_model_0)"
   ],
   "metadata": {
    "collapsed": false,
    "ExecuteTime": {
     "end_time": "2023-05-11T02:30:28.863278479Z",
     "start_time": "2023-05-11T02:30:28.845510829Z"
    }
   }
  },
  {
   "cell_type": "code",
   "execution_count": 194,
   "outputs": [],
   "source": [
    "xr_rpe = _xrpe.RPE_XR_Experiment(noisy_model_0, control_qid, target_qid, max_max_depth=9)"
   ],
   "metadata": {
    "collapsed": false,
    "ExecuteTime": {
     "end_time": "2023-05-11T02:30:29.038794172Z",
     "start_time": "2023-05-11T02:30:29.012571252Z"
    }
   }
  },
  {
   "cell_type": "code",
   "execution_count": 195,
   "outputs": [
    {
     "name": "stdout",
     "output_type": "stream",
     "text": [
      "Last good generation: 6\n",
      "Estimated phase: 1.6698065774626192\n"
     ]
    },
    {
     "data": {
      "text/plain": "<pyrpe.src.quapack.pyRPE.classical.RobustPhaseEstimation at 0x7f0fa7105cc0>"
     },
     "execution_count": 195,
     "metadata": {},
     "output_type": "execute_result"
    }
   ],
   "source": [
    "xr_rpe.run_and_report(sim_manager, 1000, qchip)"
   ],
   "metadata": {
    "collapsed": false,
    "ExecuteTime": {
     "end_time": "2023-05-11T02:30:29.339072677Z",
     "start_time": "2023-05-11T02:30:29.197044640Z"
    }
   }
  },
  {
   "cell_type": "code",
   "execution_count": 109,
   "outputs": [
    {
     "data": {
      "text/plain": "1.5707963267948966"
     },
     "execution_count": 109,
     "metadata": {},
     "output_type": "execute_result"
    }
   ],
   "source": [
    "np.pi/2"
   ],
   "metadata": {
    "collapsed": false,
    "ExecuteTime": {
     "end_time": "2023-05-11T02:26:58.102464538Z",
     "start_time": "2023-05-11T02:26:58.082349889Z"
    }
   }
  },
  {
   "cell_type": "code",
   "execution_count": 70,
   "outputs": [
    {
     "data": {
      "text/plain": "ExplicitStateSpace[Q3(4)*Q2(4)]"
     },
     "execution_count": 70,
     "metadata": {},
     "output_type": "execute_result"
    }
   ],
   "source": [
    "target_model.state_space"
   ],
   "metadata": {
    "collapsed": false,
    "ExecuteTime": {
     "end_time": "2023-05-11T01:40:37.140929543Z",
     "start_time": "2023-05-11T01:40:37.129868977Z"
    }
   }
  },
  {
   "cell_type": "code",
   "execution_count": 8,
   "outputs": [],
   "source": [
    "# GMM Rabi\n",
    "gmm_rabi = _rabi.GMMRabi([target_qid, control_qid], 0.2, np.linspace(1.e-9, 50.e-9, 10),\n",
    "                       channel_configs=channel_config)"
   ],
   "metadata": {
    "collapsed": false,
    "ExecuteTime": {
     "end_time": "2023-05-11T01:21:22.679798353Z",
     "start_time": "2023-05-11T01:21:22.665699394Z"
    }
   }
  },
  {
   "cell_type": "code",
   "execution_count": 9,
   "outputs": [
    {
     "name": "stdout",
     "output_type": "stream",
     "text": [
      "done resolving block\n",
      "done z-resolving block\n",
      "done resolving block\n",
      "done z-resolving block\n",
      "done scheduling\n",
      "done resolving block\n",
      "done z-resolving block\n",
      "done resolving block\n",
      "done z-resolving block\n",
      "done scheduling\n",
      "done resolving block\n",
      "done z-resolving block\n",
      "done resolving block\n",
      "done z-resolving block\n",
      "done scheduling\n",
      "done resolving block\n",
      "done z-resolving block\n",
      "done resolving block\n",
      "done z-resolving block\n",
      "done scheduling\n",
      "done resolving block\n",
      "done z-resolving block\n",
      "done resolving block\n",
      "done z-resolving block\n",
      "done scheduling\n",
      "done resolving block\n",
      "done z-resolving block\n",
      "done resolving block\n",
      "done z-resolving block\n",
      "done scheduling\n",
      "done resolving block\n",
      "done z-resolving block\n",
      "done resolving block\n",
      "done z-resolving block\n",
      "done scheduling\n",
      "done resolving block\n",
      "done z-resolving block\n",
      "done resolving block\n",
      "done z-resolving block\n",
      "done scheduling\n",
      "done resolving block\n",
      "done z-resolving block\n",
      "done resolving block\n",
      "done z-resolving block\n",
      "done scheduling\n",
      "done resolving block\n",
      "done z-resolving block\n",
      "done resolving block\n",
      "done z-resolving block\n",
      "done scheduling\n",
      "done resolving block\n",
      "done z-resolving block\n",
      "done resolving block\n",
      "done z-resolving block\n",
      "done scheduling\n",
      "done resolving block\n",
      "done z-resolving block\n",
      "done resolving block\n",
      "done z-resolving block\n",
      "done scheduling\n",
      "done resolving block\n",
      "done z-resolving block\n",
      "done resolving block\n",
      "done z-resolving block\n",
      "done scheduling\n",
      "done resolving block\n",
      "done z-resolving block\n",
      "done resolving block\n",
      "done z-resolving block\n",
      "done scheduling\n",
      "done resolving block\n",
      "done z-resolving block\n",
      "done resolving block\n",
      "done z-resolving block\n",
      "done scheduling\n",
      "done resolving block\n",
      "done z-resolving block\n",
      "done resolving block\n",
      "done z-resolving block\n",
      "done scheduling\n",
      "done resolving block\n",
      "done z-resolving block\n",
      "done resolving block\n",
      "done z-resolving block\n",
      "done scheduling\n",
      "done resolving block\n",
      "done z-resolving block\n",
      "done resolving block\n",
      "done z-resolving block\n",
      "done scheduling\n",
      "done resolving block\n",
      "done z-resolving block\n",
      "done resolving block\n",
      "done z-resolving block\n",
      "done scheduling\n",
      "done resolving block\n",
      "done z-resolving block\n",
      "done resolving block\n",
      "done z-resolving block\n",
      "done scheduling\n"
     ]
    },
    {
     "ename": "KeyboardInterrupt",
     "evalue": "",
     "output_type": "error",
     "traceback": [
      "\u001B[0;31m---------------------------------------------------------------------------\u001B[0m",
      "\u001B[0;31mKeyboardInterrupt\u001B[0m                         Traceback (most recent call last)",
      "Cell \u001B[0;32mIn[9], line 1\u001B[0m\n\u001B[0;32m----> 1\u001B[0m \u001B[43mgmm_rabi\u001B[49m\u001B[38;5;241;43m.\u001B[39;49m\u001B[43mrun_and_report\u001B[49m\u001B[43m(\u001B[49m\u001B[43mjobman\u001B[49m\u001B[43m,\u001B[49m\u001B[43m \u001B[49m\u001B[38;5;241;43m1000\u001B[39;49m\u001B[43m,\u001B[49m\u001B[43m \u001B[49m\u001B[43mqchip\u001B[49m\u001B[43m)\u001B[49m\n",
      "File \u001B[0;32m~/PycharmProjects/chipcalibration/chipcalibration/rabi_experiments.py:30\u001B[0m, in \u001B[0;36mGMMRabi.run_and_report\u001B[0;34m(self, jobmanager, num_shots_per_circuit, qchip, plotting)\u001B[0m\n\u001B[1;32m     26\u001B[0m \u001B[38;5;28;01mdef\u001B[39;00m \u001B[38;5;21mrun_and_report\u001B[39m(\u001B[38;5;28mself\u001B[39m, jobmanager, num_shots_per_circuit, qchip, plotting\u001B[38;5;241m=\u001B[39m\u001B[38;5;28;01mTrue\u001B[39;00m):\n\u001B[1;32m     27\u001B[0m \u001B[38;5;250m    \u001B[39m\u001B[38;5;124;03m\"\"\"\u001B[39;00m\n\u001B[1;32m     28\u001B[0m \u001B[38;5;124;03m    run the time Rabi experiments and make a GMM Manager\u001B[39;00m\n\u001B[1;32m     29\u001B[0m \u001B[38;5;124;03m    \"\"\"\u001B[39;00m\n\u001B[0;32m---> 30\u001B[0m     data \u001B[38;5;241m=\u001B[39m \u001B[38;5;28;43mself\u001B[39;49m\u001B[38;5;241;43m.\u001B[39;49m\u001B[43m_collect_data\u001B[49m\u001B[43m(\u001B[49m\u001B[43mjobmanager\u001B[49m\u001B[43m,\u001B[49m\u001B[43m \u001B[49m\u001B[43mnum_shots_per_circuit\u001B[49m\u001B[43m,\u001B[49m\u001B[43m \u001B[49m\u001B[43mqchip\u001B[49m\u001B[43m)\u001B[49m\n\u001B[1;32m     31\u001B[0m     \u001B[38;5;28mself\u001B[39m\u001B[38;5;241m.\u001B[39mraw_iq_shots \u001B[38;5;241m=\u001B[39m data\u001B[38;5;241m.\u001B[39mcopy()\n\u001B[1;32m     32\u001B[0m     \u001B[38;5;28mself\u001B[39m\u001B[38;5;241m.\u001B[39mgmm_manager\u001B[38;5;241m.\u001B[39mfit(data)\n",
      "File \u001B[0;32m~/PycharmProjects/chipcalibration/chipcalibration/rabi_experiments.py:87\u001B[0m, in \u001B[0;36mGMMRabi._collect_data\u001B[0;34m(self, jobmanager, num_shots_per_circuit, qchip)\u001B[0m\n\u001B[1;32m     82\u001B[0m \u001B[38;5;28;01mdef\u001B[39;00m \u001B[38;5;21m_collect_data\u001B[39m(\u001B[38;5;28mself\u001B[39m, jobmanager, num_shots_per_circuit, qchip):\n\u001B[1;32m     83\u001B[0m \u001B[38;5;250m    \u001B[39m\u001B[38;5;124;03m\"\"\"\u001B[39;00m\n\u001B[1;32m     84\u001B[0m \u001B[38;5;124;03m    runs the circuits using the jabmanager\u001B[39;00m\n\u001B[1;32m     85\u001B[0m \u001B[38;5;124;03m    returns raw IQ shots\u001B[39;00m\n\u001B[1;32m     86\u001B[0m \u001B[38;5;124;03m    \"\"\"\u001B[39;00m\n\u001B[0;32m---> 87\u001B[0m     \u001B[38;5;28mself\u001B[39m\u001B[38;5;241m.\u001B[39mfirst_batch \u001B[38;5;241m=\u001B[39m \u001B[43mjobmanager\u001B[49m\u001B[38;5;241;43m.\u001B[39;49m\u001B[43mcollect_raw_IQ\u001B[49m\u001B[43m(\u001B[49m\u001B[38;5;28;43mself\u001B[39;49m\u001B[38;5;241;43m.\u001B[39;49m\u001B[43mcircuits\u001B[49m\u001B[43m,\u001B[49m\u001B[43m \u001B[49m\u001B[43mnum_shots_per_circuit\u001B[49m\u001B[43m,\u001B[49m\u001B[43m \u001B[49m\u001B[43mqchip\u001B[49m\u001B[38;5;241;43m=\u001B[39;49m\u001B[43mqchip\u001B[49m\u001B[43m)\u001B[49m\n\u001B[1;32m     88\u001B[0m     \u001B[38;5;28;01mreturn\u001B[39;00m jobmanager\u001B[38;5;241m.\u001B[39mcollect_raw_IQ(\u001B[38;5;28mself\u001B[39m\u001B[38;5;241m.\u001B[39mcircuits, num_shots_per_circuit, qchip\u001B[38;5;241m=\u001B[39mqchip)\n",
      "File \u001B[0;32m~/PycharmProjects/software/qubic/job_manager_jpm.py:78\u001B[0m, in \u001B[0;36mJobManager.collect_raw_IQ\u001B[0;34m(self, program_list, num_shots_per_circuit, reads_per_shot, delay_per_shot, qchip)\u001B[0m\n\u001B[1;32m     76\u001B[0m \u001B[38;5;28;01mdef\u001B[39;00m \u001B[38;5;21mcollect_raw_IQ\u001B[39m(\u001B[38;5;28mself\u001B[39m, program_list, num_shots_per_circuit,\n\u001B[1;32m     77\u001B[0m                          reads_per_shot\u001B[38;5;241m=\u001B[39m\u001B[38;5;241m1\u001B[39m, delay_per_shot\u001B[38;5;241m=\u001B[39m\u001B[38;5;241m500.e-6\u001B[39m, qchip\u001B[38;5;241m=\u001B[39m\u001B[38;5;28;01mNone\u001B[39;00m):\n\u001B[0;32m---> 78\u001B[0m     output_dict \u001B[38;5;241m=\u001B[39m \u001B[38;5;28;43mself\u001B[39;49m\u001B[38;5;241;43m.\u001B[39;49m\u001B[43mbuild_and_run_circuits\u001B[49m\u001B[43m(\u001B[49m\u001B[43mprogram_list\u001B[49m\u001B[43m,\u001B[49m\u001B[43m \u001B[49m\u001B[43mnum_shots_per_circuit\u001B[49m\u001B[43m,\u001B[49m\u001B[43m \u001B[49m\u001B[43m[\u001B[49m\u001B[38;5;124;43m'\u001B[39;49m\u001B[38;5;124;43ms11\u001B[39;49m\u001B[38;5;124;43m'\u001B[39;49m\u001B[43m]\u001B[49m\u001B[43m,\u001B[49m\n\u001B[1;32m     79\u001B[0m \u001B[43m                                                \u001B[49m\u001B[43mreads_per_shot\u001B[49m\u001B[43m,\u001B[49m\u001B[43m \u001B[49m\u001B[43mdelay_per_shot\u001B[49m\u001B[43m,\u001B[49m\u001B[43m \u001B[49m\u001B[43mqchip\u001B[49m\u001B[43m)\u001B[49m\n\u001B[1;32m     80\u001B[0m     \u001B[38;5;28;01mreturn\u001B[39;00m output_dict[\u001B[38;5;124m'\u001B[39m\u001B[38;5;124ms11\u001B[39m\u001B[38;5;124m'\u001B[39m]\n",
      "File \u001B[0;32m~/PycharmProjects/software/qubic/job_manager_jpm.py:63\u001B[0m, in \u001B[0;36mJobManager.build_and_run_circuits\u001B[0;34m(self, program_list, n_total_shots, outputs, reads_per_shot, delay_per_shot, qchip)\u001B[0m\n\u001B[1;32m     60\u001B[0m \u001B[38;5;28;01melse\u001B[39;00m:\n\u001B[1;32m     61\u001B[0m     \u001B[38;5;28;01mraise\u001B[39;00m \u001B[38;5;167;01mTypeError\u001B[39;00m(\u001B[38;5;124m'\u001B[39m\u001B[38;5;132;01m{}\u001B[39;00m\u001B[38;5;124m invalid program list\u001B[39m\u001B[38;5;124m'\u001B[39m\u001B[38;5;241m.\u001B[39mformat(program_list))\n\u001B[0;32m---> 63\u001B[0m s11 \u001B[38;5;241m=\u001B[39m \u001B[38;5;28;43mself\u001B[39;49m\u001B[38;5;241;43m.\u001B[39;49m\u001B[43mrunner\u001B[49m\u001B[38;5;241;43m.\u001B[39;49m\u001B[43mrun_circuit_batch\u001B[49m\u001B[43m(\u001B[49m\u001B[38;5;28;43mself\u001B[39;49m\u001B[38;5;241;43m.\u001B[39;49m\u001B[43mraw_asm_progs\u001B[49m\u001B[43m,\u001B[49m\u001B[43m \u001B[49m\u001B[43mn_total_shots\u001B[49m\u001B[43m,\u001B[49m\u001B[43m \u001B[49m\u001B[43mreads_per_shot\u001B[49m\u001B[43m,\u001B[49m\u001B[43m \u001B[49m\u001B[43mdelay_per_shot\u001B[49m\u001B[43m)\u001B[49m\n\u001B[1;32m     65\u001B[0m output_dict \u001B[38;5;241m=\u001B[39m {}\n\u001B[1;32m     66\u001B[0m \u001B[38;5;28;01mif\u001B[39;00m \u001B[38;5;124m'\u001B[39m\u001B[38;5;124ms11\u001B[39m\u001B[38;5;124m'\u001B[39m \u001B[38;5;129;01min\u001B[39;00m outputs:\n",
      "File \u001B[0;32m~/PycharmProjects/software/qubic/rpc_client.py:87\u001B[0m, in \u001B[0;36mCircuitRunnerClient.run_circuit_batch\u001B[0;34m(self, raw_asm_list, n_total_shots, reads_per_shot, delay_per_shot, reload_cmd, reload_freq, reload_env, zero_between_reload)\u001B[0m\n\u001B[1;32m     49\u001B[0m \u001B[38;5;28;01mdef\u001B[39;00m \u001B[38;5;21mrun_circuit_batch\u001B[39m(\u001B[38;5;28mself\u001B[39m, raw_asm_list, n_total_shots, reads_per_shot\u001B[38;5;241m=\u001B[39m\u001B[38;5;241m1\u001B[39m, delay_per_shot\u001B[38;5;241m=\u001B[39m\u001B[38;5;241m500.e-6\u001B[39m,\n\u001B[1;32m     50\u001B[0m                       reload_cmd\u001B[38;5;241m=\u001B[39m\u001B[38;5;28;01mTrue\u001B[39;00m, reload_freq\u001B[38;5;241m=\u001B[39m\u001B[38;5;28;01mTrue\u001B[39;00m, reload_env\u001B[38;5;241m=\u001B[39m\u001B[38;5;28;01mTrue\u001B[39;00m, zero_between_reload\u001B[38;5;241m=\u001B[39m\u001B[38;5;28;01mTrue\u001B[39;00m):\n\u001B[1;32m     51\u001B[0m \u001B[38;5;250m    \u001B[39m\u001B[38;5;124;03m\"\"\"\u001B[39;00m\n\u001B[1;32m     52\u001B[0m \u001B[38;5;124;03m    Runs a batch of circuits given by a list of raw_asm \"binaries\". Each circuit is run n_total_shots\u001B[39;00m\n\u001B[1;32m     53\u001B[0m \u001B[38;5;124;03m    times. reads_per_shot, n_total_shots, and delay_per_shot are passed directly into run_circuit, and must\u001B[39;00m\n\u001B[0;32m   (...)\u001B[0m\n\u001B[1;32m     84\u001B[0m \u001B[38;5;124;03m            shape (len(raw_asm_list), n_total_shots, reads_per_shot)\u001B[39;00m\n\u001B[1;32m     85\u001B[0m \u001B[38;5;124;03m    \"\"\"\u001B[39;00m\n\u001B[0;32m---> 87\u001B[0m     s11 \u001B[38;5;241m=\u001B[39m \u001B[38;5;28;43mself\u001B[39;49m\u001B[38;5;241;43m.\u001B[39;49m\u001B[43mproxy\u001B[49m\u001B[38;5;241;43m.\u001B[39;49m\u001B[43mrun_circuit_batch\u001B[49m\u001B[43m(\u001B[49m\u001B[43mraw_asm_list\u001B[49m\u001B[43m,\u001B[49m\u001B[43m \u001B[49m\u001B[43mn_total_shots\u001B[49m\u001B[43m,\u001B[49m\u001B[43m \u001B[49m\u001B[43mreads_per_shot\u001B[49m\u001B[43m,\u001B[49m\u001B[43m \u001B[49m\u001B[38;5;28;43mfloat\u001B[39;49m\u001B[43m(\u001B[49m\u001B[43mdelay_per_shot\u001B[49m\u001B[43m)\u001B[49m\u001B[43m,\u001B[49m\n\u001B[1;32m     88\u001B[0m \u001B[43m                                 \u001B[49m\u001B[43mreload_cmd\u001B[49m\u001B[43m,\u001B[49m\u001B[43m \u001B[49m\u001B[43mreload_freq\u001B[49m\u001B[43m,\u001B[49m\u001B[43m \u001B[49m\u001B[43mreload_env\u001B[49m\u001B[43m,\u001B[49m\u001B[43m \u001B[49m\u001B[43mzero_between_reload\u001B[49m\u001B[43m,\u001B[49m\u001B[43m \u001B[49m\u001B[38;5;28;43;01mTrue\u001B[39;49;00m\u001B[43m)\u001B[49m\n\u001B[1;32m     89\u001B[0m     \u001B[38;5;28;01mfor\u001B[39;00m ch \u001B[38;5;129;01min\u001B[39;00m s11\u001B[38;5;241m.\u001B[39mkeys():\n\u001B[1;32m     90\u001B[0m         s11[ch] \u001B[38;5;241m=\u001B[39m np\u001B[38;5;241m.\u001B[39mreshape(np\u001B[38;5;241m.\u001B[39mfrombuffer(s11[ch]\u001B[38;5;241m.\u001B[39mdata, dtype\u001B[38;5;241m=\u001B[39mnp\u001B[38;5;241m.\u001B[39mcomplex128), \n\u001B[1;32m     91\u001B[0m                              (\u001B[38;5;28mlen\u001B[39m(raw_asm_list), n_total_shots, reads_per_shot))\n",
      "File \u001B[0;32m/usr/lib/python3.10/xmlrpc/client.py:1122\u001B[0m, in \u001B[0;36m_Method.__call__\u001B[0;34m(self, *args)\u001B[0m\n\u001B[1;32m   1121\u001B[0m \u001B[38;5;28;01mdef\u001B[39;00m \u001B[38;5;21m__call__\u001B[39m(\u001B[38;5;28mself\u001B[39m, \u001B[38;5;241m*\u001B[39margs):\n\u001B[0;32m-> 1122\u001B[0m     \u001B[38;5;28;01mreturn\u001B[39;00m \u001B[38;5;28;43mself\u001B[39;49m\u001B[38;5;241;43m.\u001B[39;49m\u001B[43m__send\u001B[49m\u001B[43m(\u001B[49m\u001B[38;5;28;43mself\u001B[39;49m\u001B[38;5;241;43m.\u001B[39;49m\u001B[43m__name\u001B[49m\u001B[43m,\u001B[49m\u001B[43m \u001B[49m\u001B[43margs\u001B[49m\u001B[43m)\u001B[49m\n",
      "File \u001B[0;32m/usr/lib/python3.10/xmlrpc/client.py:1464\u001B[0m, in \u001B[0;36mServerProxy.__request\u001B[0;34m(self, methodname, params)\u001B[0m\n\u001B[1;32m   1458\u001B[0m \u001B[38;5;28;01mdef\u001B[39;00m \u001B[38;5;21m__request\u001B[39m(\u001B[38;5;28mself\u001B[39m, methodname, params):\n\u001B[1;32m   1459\u001B[0m     \u001B[38;5;66;03m# call a method on the remote server\u001B[39;00m\n\u001B[1;32m   1461\u001B[0m     request \u001B[38;5;241m=\u001B[39m dumps(params, methodname, encoding\u001B[38;5;241m=\u001B[39m\u001B[38;5;28mself\u001B[39m\u001B[38;5;241m.\u001B[39m__encoding,\n\u001B[1;32m   1462\u001B[0m                     allow_none\u001B[38;5;241m=\u001B[39m\u001B[38;5;28mself\u001B[39m\u001B[38;5;241m.\u001B[39m__allow_none)\u001B[38;5;241m.\u001B[39mencode(\u001B[38;5;28mself\u001B[39m\u001B[38;5;241m.\u001B[39m__encoding, \u001B[38;5;124m'\u001B[39m\u001B[38;5;124mxmlcharrefreplace\u001B[39m\u001B[38;5;124m'\u001B[39m)\n\u001B[0;32m-> 1464\u001B[0m     response \u001B[38;5;241m=\u001B[39m \u001B[38;5;28;43mself\u001B[39;49m\u001B[38;5;241;43m.\u001B[39;49m\u001B[43m__transport\u001B[49m\u001B[38;5;241;43m.\u001B[39;49m\u001B[43mrequest\u001B[49m\u001B[43m(\u001B[49m\n\u001B[1;32m   1465\u001B[0m \u001B[43m        \u001B[49m\u001B[38;5;28;43mself\u001B[39;49m\u001B[38;5;241;43m.\u001B[39;49m\u001B[43m__host\u001B[49m\u001B[43m,\u001B[49m\n\u001B[1;32m   1466\u001B[0m \u001B[43m        \u001B[49m\u001B[38;5;28;43mself\u001B[39;49m\u001B[38;5;241;43m.\u001B[39;49m\u001B[43m__handler\u001B[49m\u001B[43m,\u001B[49m\n\u001B[1;32m   1467\u001B[0m \u001B[43m        \u001B[49m\u001B[43mrequest\u001B[49m\u001B[43m,\u001B[49m\n\u001B[1;32m   1468\u001B[0m \u001B[43m        \u001B[49m\u001B[43mverbose\u001B[49m\u001B[38;5;241;43m=\u001B[39;49m\u001B[38;5;28;43mself\u001B[39;49m\u001B[38;5;241;43m.\u001B[39;49m\u001B[43m__verbose\u001B[49m\n\u001B[1;32m   1469\u001B[0m \u001B[43m        \u001B[49m\u001B[43m)\u001B[49m\n\u001B[1;32m   1471\u001B[0m     \u001B[38;5;28;01mif\u001B[39;00m \u001B[38;5;28mlen\u001B[39m(response) \u001B[38;5;241m==\u001B[39m \u001B[38;5;241m1\u001B[39m:\n\u001B[1;32m   1472\u001B[0m         response \u001B[38;5;241m=\u001B[39m response[\u001B[38;5;241m0\u001B[39m]\n",
      "File \u001B[0;32m/usr/lib/python3.10/xmlrpc/client.py:1166\u001B[0m, in \u001B[0;36mTransport.request\u001B[0;34m(self, host, handler, request_body, verbose)\u001B[0m\n\u001B[1;32m   1164\u001B[0m \u001B[38;5;28;01mfor\u001B[39;00m i \u001B[38;5;129;01min\u001B[39;00m (\u001B[38;5;241m0\u001B[39m, \u001B[38;5;241m1\u001B[39m):\n\u001B[1;32m   1165\u001B[0m     \u001B[38;5;28;01mtry\u001B[39;00m:\n\u001B[0;32m-> 1166\u001B[0m         \u001B[38;5;28;01mreturn\u001B[39;00m \u001B[38;5;28;43mself\u001B[39;49m\u001B[38;5;241;43m.\u001B[39;49m\u001B[43msingle_request\u001B[49m\u001B[43m(\u001B[49m\u001B[43mhost\u001B[49m\u001B[43m,\u001B[49m\u001B[43m \u001B[49m\u001B[43mhandler\u001B[49m\u001B[43m,\u001B[49m\u001B[43m \u001B[49m\u001B[43mrequest_body\u001B[49m\u001B[43m,\u001B[49m\u001B[43m \u001B[49m\u001B[43mverbose\u001B[49m\u001B[43m)\u001B[49m\n\u001B[1;32m   1167\u001B[0m     \u001B[38;5;28;01mexcept\u001B[39;00m http\u001B[38;5;241m.\u001B[39mclient\u001B[38;5;241m.\u001B[39mRemoteDisconnected:\n\u001B[1;32m   1168\u001B[0m         \u001B[38;5;28;01mif\u001B[39;00m i:\n",
      "File \u001B[0;32m/usr/lib/python3.10/xmlrpc/client.py:1178\u001B[0m, in \u001B[0;36mTransport.single_request\u001B[0;34m(self, host, handler, request_body, verbose)\u001B[0m\n\u001B[1;32m   1175\u001B[0m \u001B[38;5;28;01mdef\u001B[39;00m \u001B[38;5;21msingle_request\u001B[39m(\u001B[38;5;28mself\u001B[39m, host, handler, request_body, verbose\u001B[38;5;241m=\u001B[39m\u001B[38;5;28;01mFalse\u001B[39;00m):\n\u001B[1;32m   1176\u001B[0m     \u001B[38;5;66;03m# issue XML-RPC request\u001B[39;00m\n\u001B[1;32m   1177\u001B[0m     \u001B[38;5;28;01mtry\u001B[39;00m:\n\u001B[0;32m-> 1178\u001B[0m         http_conn \u001B[38;5;241m=\u001B[39m \u001B[38;5;28;43mself\u001B[39;49m\u001B[38;5;241;43m.\u001B[39;49m\u001B[43msend_request\u001B[49m\u001B[43m(\u001B[49m\u001B[43mhost\u001B[49m\u001B[43m,\u001B[49m\u001B[43m \u001B[49m\u001B[43mhandler\u001B[49m\u001B[43m,\u001B[49m\u001B[43m \u001B[49m\u001B[43mrequest_body\u001B[49m\u001B[43m,\u001B[49m\u001B[43m \u001B[49m\u001B[43mverbose\u001B[49m\u001B[43m)\u001B[49m\n\u001B[1;32m   1179\u001B[0m         resp \u001B[38;5;241m=\u001B[39m http_conn\u001B[38;5;241m.\u001B[39mgetresponse()\n\u001B[1;32m   1180\u001B[0m         \u001B[38;5;28;01mif\u001B[39;00m resp\u001B[38;5;241m.\u001B[39mstatus \u001B[38;5;241m==\u001B[39m \u001B[38;5;241m200\u001B[39m:\n",
      "File \u001B[0;32m/usr/lib/python3.10/xmlrpc/client.py:1291\u001B[0m, in \u001B[0;36mTransport.send_request\u001B[0;34m(self, host, handler, request_body, debug)\u001B[0m\n\u001B[1;32m   1289\u001B[0m headers\u001B[38;5;241m.\u001B[39mappend((\u001B[38;5;124m\"\u001B[39m\u001B[38;5;124mUser-Agent\u001B[39m\u001B[38;5;124m\"\u001B[39m, \u001B[38;5;28mself\u001B[39m\u001B[38;5;241m.\u001B[39muser_agent))\n\u001B[1;32m   1290\u001B[0m \u001B[38;5;28mself\u001B[39m\u001B[38;5;241m.\u001B[39msend_headers(connection, headers)\n\u001B[0;32m-> 1291\u001B[0m \u001B[38;5;28;43mself\u001B[39;49m\u001B[38;5;241;43m.\u001B[39;49m\u001B[43msend_content\u001B[49m\u001B[43m(\u001B[49m\u001B[43mconnection\u001B[49m\u001B[43m,\u001B[49m\u001B[43m \u001B[49m\u001B[43mrequest_body\u001B[49m\u001B[43m)\u001B[49m\n\u001B[1;32m   1292\u001B[0m \u001B[38;5;28;01mreturn\u001B[39;00m connection\n",
      "File \u001B[0;32m/usr/lib/python3.10/xmlrpc/client.py:1321\u001B[0m, in \u001B[0;36mTransport.send_content\u001B[0;34m(self, connection, request_body)\u001B[0m\n\u001B[1;32m   1318\u001B[0m     request_body \u001B[38;5;241m=\u001B[39m gzip_encode(request_body)\n\u001B[1;32m   1320\u001B[0m connection\u001B[38;5;241m.\u001B[39mputheader(\u001B[38;5;124m\"\u001B[39m\u001B[38;5;124mContent-Length\u001B[39m\u001B[38;5;124m\"\u001B[39m, \u001B[38;5;28mstr\u001B[39m(\u001B[38;5;28mlen\u001B[39m(request_body)))\n\u001B[0;32m-> 1321\u001B[0m \u001B[43mconnection\u001B[49m\u001B[38;5;241;43m.\u001B[39;49m\u001B[43mendheaders\u001B[49m\u001B[43m(\u001B[49m\u001B[43mrequest_body\u001B[49m\u001B[43m)\u001B[49m\n",
      "File \u001B[0;32m/usr/lib/python3.10/http/client.py:1277\u001B[0m, in \u001B[0;36mHTTPConnection.endheaders\u001B[0;34m(self, message_body, encode_chunked)\u001B[0m\n\u001B[1;32m   1275\u001B[0m \u001B[38;5;28;01melse\u001B[39;00m:\n\u001B[1;32m   1276\u001B[0m     \u001B[38;5;28;01mraise\u001B[39;00m CannotSendHeader()\n\u001B[0;32m-> 1277\u001B[0m \u001B[38;5;28;43mself\u001B[39;49m\u001B[38;5;241;43m.\u001B[39;49m\u001B[43m_send_output\u001B[49m\u001B[43m(\u001B[49m\u001B[43mmessage_body\u001B[49m\u001B[43m,\u001B[49m\u001B[43m \u001B[49m\u001B[43mencode_chunked\u001B[49m\u001B[38;5;241;43m=\u001B[39;49m\u001B[43mencode_chunked\u001B[49m\u001B[43m)\u001B[49m\n",
      "File \u001B[0;32m/usr/lib/python3.10/http/client.py:1037\u001B[0m, in \u001B[0;36mHTTPConnection._send_output\u001B[0;34m(self, message_body, encode_chunked)\u001B[0m\n\u001B[1;32m   1035\u001B[0m msg \u001B[38;5;241m=\u001B[39m \u001B[38;5;124mb\u001B[39m\u001B[38;5;124m\"\u001B[39m\u001B[38;5;130;01m\\r\u001B[39;00m\u001B[38;5;130;01m\\n\u001B[39;00m\u001B[38;5;124m\"\u001B[39m\u001B[38;5;241m.\u001B[39mjoin(\u001B[38;5;28mself\u001B[39m\u001B[38;5;241m.\u001B[39m_buffer)\n\u001B[1;32m   1036\u001B[0m \u001B[38;5;28;01mdel\u001B[39;00m \u001B[38;5;28mself\u001B[39m\u001B[38;5;241m.\u001B[39m_buffer[:]\n\u001B[0;32m-> 1037\u001B[0m \u001B[38;5;28;43mself\u001B[39;49m\u001B[38;5;241;43m.\u001B[39;49m\u001B[43msend\u001B[49m\u001B[43m(\u001B[49m\u001B[43mmsg\u001B[49m\u001B[43m)\u001B[49m\n\u001B[1;32m   1039\u001B[0m \u001B[38;5;28;01mif\u001B[39;00m message_body \u001B[38;5;129;01mis\u001B[39;00m \u001B[38;5;129;01mnot\u001B[39;00m \u001B[38;5;28;01mNone\u001B[39;00m:\n\u001B[1;32m   1040\u001B[0m \n\u001B[1;32m   1041\u001B[0m     \u001B[38;5;66;03m# create a consistent interface to message_body\u001B[39;00m\n\u001B[1;32m   1042\u001B[0m     \u001B[38;5;28;01mif\u001B[39;00m \u001B[38;5;28mhasattr\u001B[39m(message_body, \u001B[38;5;124m'\u001B[39m\u001B[38;5;124mread\u001B[39m\u001B[38;5;124m'\u001B[39m):\n\u001B[1;32m   1043\u001B[0m         \u001B[38;5;66;03m# Let file-like take precedence over byte-like.  This\u001B[39;00m\n\u001B[1;32m   1044\u001B[0m         \u001B[38;5;66;03m# is needed to allow the current position of mmap'ed\u001B[39;00m\n\u001B[1;32m   1045\u001B[0m         \u001B[38;5;66;03m# files to be taken into account.\u001B[39;00m\n",
      "File \u001B[0;32m/usr/lib/python3.10/http/client.py:975\u001B[0m, in \u001B[0;36mHTTPConnection.send\u001B[0;34m(self, data)\u001B[0m\n\u001B[1;32m    973\u001B[0m \u001B[38;5;28;01mif\u001B[39;00m \u001B[38;5;28mself\u001B[39m\u001B[38;5;241m.\u001B[39msock \u001B[38;5;129;01mis\u001B[39;00m \u001B[38;5;28;01mNone\u001B[39;00m:\n\u001B[1;32m    974\u001B[0m     \u001B[38;5;28;01mif\u001B[39;00m \u001B[38;5;28mself\u001B[39m\u001B[38;5;241m.\u001B[39mauto_open:\n\u001B[0;32m--> 975\u001B[0m         \u001B[38;5;28;43mself\u001B[39;49m\u001B[38;5;241;43m.\u001B[39;49m\u001B[43mconnect\u001B[49m\u001B[43m(\u001B[49m\u001B[43m)\u001B[49m\n\u001B[1;32m    976\u001B[0m     \u001B[38;5;28;01melse\u001B[39;00m:\n\u001B[1;32m    977\u001B[0m         \u001B[38;5;28;01mraise\u001B[39;00m NotConnected()\n",
      "File \u001B[0;32m/usr/lib/python3.10/http/client.py:941\u001B[0m, in \u001B[0;36mHTTPConnection.connect\u001B[0;34m(self)\u001B[0m\n\u001B[1;32m    939\u001B[0m \u001B[38;5;250m\u001B[39m\u001B[38;5;124;03m\"\"\"Connect to the host and port specified in __init__.\"\"\"\u001B[39;00m\n\u001B[1;32m    940\u001B[0m sys\u001B[38;5;241m.\u001B[39maudit(\u001B[38;5;124m\"\u001B[39m\u001B[38;5;124mhttp.client.connect\u001B[39m\u001B[38;5;124m\"\u001B[39m, \u001B[38;5;28mself\u001B[39m, \u001B[38;5;28mself\u001B[39m\u001B[38;5;241m.\u001B[39mhost, \u001B[38;5;28mself\u001B[39m\u001B[38;5;241m.\u001B[39mport)\n\u001B[0;32m--> 941\u001B[0m \u001B[38;5;28mself\u001B[39m\u001B[38;5;241m.\u001B[39msock \u001B[38;5;241m=\u001B[39m \u001B[38;5;28;43mself\u001B[39;49m\u001B[38;5;241;43m.\u001B[39;49m\u001B[43m_create_connection\u001B[49m\u001B[43m(\u001B[49m\n\u001B[1;32m    942\u001B[0m \u001B[43m    \u001B[49m\u001B[43m(\u001B[49m\u001B[38;5;28;43mself\u001B[39;49m\u001B[38;5;241;43m.\u001B[39;49m\u001B[43mhost\u001B[49m\u001B[43m,\u001B[49m\u001B[38;5;28;43mself\u001B[39;49m\u001B[38;5;241;43m.\u001B[39;49m\u001B[43mport\u001B[49m\u001B[43m)\u001B[49m\u001B[43m,\u001B[49m\u001B[43m \u001B[49m\u001B[38;5;28;43mself\u001B[39;49m\u001B[38;5;241;43m.\u001B[39;49m\u001B[43mtimeout\u001B[49m\u001B[43m,\u001B[49m\u001B[43m \u001B[49m\u001B[38;5;28;43mself\u001B[39;49m\u001B[38;5;241;43m.\u001B[39;49m\u001B[43msource_address\u001B[49m\u001B[43m)\u001B[49m\n\u001B[1;32m    943\u001B[0m \u001B[38;5;66;03m# Might fail in OSs that don't implement TCP_NODELAY\u001B[39;00m\n\u001B[1;32m    944\u001B[0m \u001B[38;5;28;01mtry\u001B[39;00m:\n",
      "File \u001B[0;32m/usr/lib/python3.10/socket.py:833\u001B[0m, in \u001B[0;36mcreate_connection\u001B[0;34m(address, timeout, source_address)\u001B[0m\n\u001B[1;32m    831\u001B[0m \u001B[38;5;28;01mif\u001B[39;00m source_address:\n\u001B[1;32m    832\u001B[0m     sock\u001B[38;5;241m.\u001B[39mbind(source_address)\n\u001B[0;32m--> 833\u001B[0m \u001B[43msock\u001B[49m\u001B[38;5;241;43m.\u001B[39;49m\u001B[43mconnect\u001B[49m\u001B[43m(\u001B[49m\u001B[43msa\u001B[49m\u001B[43m)\u001B[49m\n\u001B[1;32m    834\u001B[0m \u001B[38;5;66;03m# Break explicitly a reference cycle\u001B[39;00m\n\u001B[1;32m    835\u001B[0m err \u001B[38;5;241m=\u001B[39m \u001B[38;5;28;01mNone\u001B[39;00m\n",
      "\u001B[0;31mKeyboardInterrupt\u001B[0m: "
     ]
    }
   ],
   "source": [
    "gmm_rabi.run_and_report(jobman, 1000, qchip)"
   ],
   "metadata": {
    "collapsed": false,
    "ExecuteTime": {
     "end_time": "2023-05-11T01:21:29.763744236Z",
     "start_time": "2023-05-11T01:21:23.014071516Z"
    }
   }
  },
  {
   "cell_type": "code",
   "execution_count": null,
   "outputs": [],
   "source": [],
   "metadata": {
    "collapsed": false
   }
  }
 ],
 "metadata": {
  "kernelspec": {
   "display_name": "Python 3",
   "language": "python",
   "name": "python3"
  },
  "language_info": {
   "codemirror_mode": {
    "name": "ipython",
    "version": 2
   },
   "file_extension": ".py",
   "mimetype": "text/x-python",
   "name": "python",
   "nbconvert_exporter": "python",
   "pygments_lexer": "ipython2",
   "version": "2.7.6"
  }
 },
 "nbformat": 4,
 "nbformat_minor": 0
}
