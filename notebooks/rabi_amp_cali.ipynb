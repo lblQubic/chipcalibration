{
 "cells": [
  {
   "cell_type": "code",
   "execution_count": 206,
   "id": "fed935b8",
   "metadata": {},
   "outputs": [],
   "source": [
    "#%matplotlib widget #need this for click GUIs\n",
    "import qubic.toolchain as tc\n",
    "import qubic.run as rc\n",
    "import qubitconfig.qchip as qc\n",
    "from distproc.hwconfig import FPGAConfig, load_channel_configs\n",
    "import numpy as np\n",
    "import matplotlib.pyplot as plt\n",
    "import chipcalibration.rabi_amp_sweep as rabi\n",
    "from importlib import reload\n",
    "import qubic.state_disc as sd"
   ]
  },
  {
   "cell_type": "code",
   "execution_count": 207,
   "id": "c912641f",
   "metadata": {},
   "outputs": [],
   "source": [
    "# instantiate runner and load xsa file (i.e. PL bitfile)\n",
    "# use load_xsa=False if you don't want to reload bitfile\n",
    "runner = rc.CircuitRunner()"
   ]
  },
  {
   "cell_type": "code",
   "execution_count": 174,
   "id": "ce59763d",
   "metadata": {},
   "outputs": [],
   "source": [
    "fpga_config = FPGAConfig(**{'fpga_clk_period': 2.e-9, 'alu_instr_clks': 5, 'jump_cond_clks': 5, 'jump_fproc_clks': 5, 'pulse_regwrite_clks': 3})\n",
    "\n",
    "qchipname = 'X4Y2'\n",
    "qchip = qc.QChip('../submodules/qchip/X4Y2/X4Y2.json')\n",
    "chanmap = {'Q0':2,'Q2':1,'Q1':4,'Q3':3,'Q4':5,'Q5':6,'Q6':7}\n",
    "\n",
    "channel_config = load_channel_configs('../submodules/qchip/X4Y2/channel_config.json')"
   ]
  },
  {
   "cell_type": "code",
   "execution_count": 210,
   "id": "4d16b5c7",
   "metadata": {},
   "outputs": [],
   "source": [
    "target_qubits = ['Q0', 'Q1', 'Q2', 'Q3']\n",
    "#target_qubits = ['Q3']\n",
    "target_twidth = 24e-9"
   ]
  },
  {
   "cell_type": "code",
   "execution_count": 211,
   "id": "30788d57",
   "metadata": {},
   "outputs": [
    {
     "name": "stdout",
     "output_type": "stream",
     "text": [
      "done resolving block\n",
      "done z-resolving block\n",
      "done resolving block\n",
      "done z-resolving block\n",
      "done scheduling\n",
      "done resolving block\n",
      "done z-resolving block\n",
      "done resolving block\n",
      "done z-resolving block\n",
      "done scheduling\n",
      "done resolving block\n",
      "done z-resolving block\n",
      "done resolving block\n",
      "done z-resolving block\n",
      "done scheduling\n",
      "done resolving block\n",
      "done z-resolving block\n",
      "done resolving block\n",
      "done z-resolving block\n",
      "done scheduling\n",
      "done resolving block\n",
      "done z-resolving block\n",
      "done resolving block\n",
      "done z-resolving block\n",
      "done scheduling\n",
      "done resolving block\n",
      "done z-resolving block\n",
      "done resolving block\n",
      "done z-resolving block\n",
      "done scheduling\n",
      "done resolving block\n",
      "done z-resolving block\n",
      "done resolving block\n",
      "done z-resolving block\n",
      "done scheduling\n",
      "done resolving block\n",
      "done z-resolving block\n",
      "done resolving block\n",
      "done z-resolving block\n",
      "done scheduling\n",
      "done resolving block\n",
      "done z-resolving block\n",
      "done resolving block\n",
      "done z-resolving block\n",
      "done scheduling\n",
      "done resolving block\n",
      "done z-resolving block\n",
      "done resolving block\n",
      "done z-resolving block\n",
      "done scheduling\n",
      "done resolving block\n",
      "done z-resolving block\n",
      "done resolving block\n",
      "done z-resolving block\n",
      "done scheduling\n",
      "done resolving block\n",
      "done z-resolving block\n",
      "done resolving block\n",
      "done z-resolving block\n",
      "done scheduling\n",
      "done resolving block\n",
      "done z-resolving block\n",
      "done resolving block\n",
      "done z-resolving block\n",
      "done scheduling\n",
      "done resolving block\n",
      "done z-resolving block\n",
      "done resolving block\n",
      "done z-resolving block\n",
      "done scheduling\n",
      "done resolving block\n",
      "done z-resolving block\n",
      "done resolving block\n",
      "done z-resolving block\n",
      "done scheduling\n",
      "done resolving block\n",
      "done z-resolving block\n",
      "done resolving block\n",
      "done z-resolving block\n",
      "done scheduling\n",
      "done resolving block\n",
      "done z-resolving block\n",
      "done resolving block\n",
      "done z-resolving block\n",
      "done scheduling\n",
      "done resolving block\n",
      "done z-resolving block\n",
      "done resolving block\n",
      "done z-resolving block\n",
      "done scheduling\n",
      "done resolving block\n",
      "done z-resolving block\n",
      "done resolving block\n",
      "done z-resolving block\n",
      "done scheduling\n",
      "done resolving block\n",
      "done z-resolving block\n",
      "done resolving block\n",
      "done z-resolving block\n",
      "done scheduling\n",
      "done resolving block\n",
      "done z-resolving block\n",
      "done resolving block\n",
      "done z-resolving block\n",
      "done scheduling\n",
      "done resolving block\n",
      "done z-resolving block\n",
      "done resolving block\n",
      "done z-resolving block\n",
      "done scheduling\n",
      "done resolving block\n",
      "done z-resolving block\n",
      "done resolving block\n",
      "done z-resolving block\n",
      "done scheduling\n",
      "done resolving block\n",
      "done z-resolving block\n",
      "done resolving block\n",
      "done z-resolving block\n",
      "done scheduling\n",
      "done resolving block\n",
      "done z-resolving block\n",
      "done resolving block\n",
      "done z-resolving block\n",
      "done scheduling\n",
      "done resolving block\n",
      "done z-resolving block\n",
      "done resolving block\n",
      "done z-resolving block\n",
      "done scheduling\n",
      "done resolving block\n",
      "done z-resolving block\n",
      "done resolving block\n",
      "done z-resolving block\n",
      "done scheduling\n",
      "done resolving block\n",
      "done z-resolving block\n",
      "done resolving block\n",
      "done z-resolving block\n",
      "done scheduling\n",
      "done resolving block\n",
      "done z-resolving block\n",
      "done resolving block\n",
      "done z-resolving block\n",
      "done scheduling\n",
      "done resolving block\n",
      "done z-resolving block\n",
      "done resolving block\n",
      "done z-resolving block\n",
      "done scheduling\n",
      "done resolving block\n",
      "done z-resolving block\n",
      "done resolving block\n",
      "done z-resolving block\n",
      "done scheduling\n",
      "done resolving block\n",
      "done z-resolving block\n",
      "done resolving block\n",
      "done z-resolving block\n",
      "done scheduling\n",
      "done resolving block\n",
      "done z-resolving block\n",
      "done resolving block\n",
      "done z-resolving block\n",
      "done scheduling\n",
      "done resolving block\n",
      "done z-resolving block\n",
      "done resolving block\n",
      "done z-resolving block\n",
      "done scheduling\n",
      "done resolving block\n",
      "done z-resolving block\n",
      "done resolving block\n",
      "done z-resolving block\n",
      "done scheduling\n",
      "done resolving block\n",
      "done z-resolving block\n",
      "done resolving block\n",
      "done z-resolving block\n",
      "done scheduling\n",
      "done resolving block\n",
      "done z-resolving block\n",
      "done resolving block\n",
      "done z-resolving block\n",
      "done scheduling\n",
      "done resolving block\n",
      "done z-resolving block\n",
      "done resolving block\n",
      "done z-resolving block\n",
      "done scheduling\n",
      "done resolving block\n",
      "done z-resolving block\n",
      "done resolving block\n",
      "done z-resolving block\n",
      "done scheduling\n",
      "done resolving block\n",
      "done z-resolving block\n",
      "done resolving block\n",
      "done z-resolving block\n",
      "done scheduling\n",
      "done resolving block\n",
      "done z-resolving block\n",
      "done resolving block\n",
      "done z-resolving block\n",
      "done scheduling\n",
      "done resolving block\n",
      "done z-resolving block\n",
      "done resolving block\n",
      "done z-resolving block\n",
      "done scheduling\n",
      "done resolving block\n",
      "done z-resolving block\n",
      "done resolving block\n",
      "done z-resolving block\n",
      "done scheduling\n",
      "done resolving block\n",
      "done z-resolving block\n",
      "done resolving block\n",
      "done z-resolving block\n",
      "done scheduling\n",
      "done resolving block\n",
      "done z-resolving block\n",
      "done resolving block\n",
      "done z-resolving block\n",
      "done scheduling\n",
      "done resolving block\n",
      "done z-resolving block\n",
      "done resolving block\n",
      "done z-resolving block\n",
      "done scheduling\n",
      "done resolving block\n",
      "done z-resolving block\n",
      "done resolving block\n",
      "done z-resolving block\n",
      "done scheduling\n",
      "done resolving block\n",
      "done z-resolving block\n",
      "done resolving block\n",
      "done z-resolving block\n",
      "done scheduling\n",
      "done resolving block\n",
      "done z-resolving block\n",
      "done resolving block\n",
      "done z-resolving block\n",
      "done scheduling\n",
      "done resolving block\n",
      "done z-resolving block\n",
      "done resolving block\n",
      "done z-resolving block\n",
      "done scheduling\n",
      "done resolving block\n",
      "done z-resolving block\n",
      "done resolving block\n",
      "done z-resolving block\n",
      "done scheduling\n",
      "done resolving block\n",
      "done z-resolving block\n",
      "done resolving block\n",
      "done z-resolving block\n",
      "done scheduling\n",
      "done resolving block\n",
      "done z-resolving block\n",
      "done resolving block\n",
      "done z-resolving block\n",
      "done scheduling\n",
      "done resolving block\n",
      "done z-resolving block\n",
      "done resolving block\n",
      "done z-resolving block\n",
      "done scheduling\n",
      "done resolving block\n",
      "done z-resolving block\n",
      "done resolving block\n",
      "done z-resolving block\n",
      "done scheduling\n",
      "done resolving block\n",
      "done z-resolving block\n",
      "done resolving block\n",
      "done z-resolving block\n",
      "done scheduling\n",
      "done resolving block\n",
      "done z-resolving block\n",
      "done resolving block\n",
      "done z-resolving block\n",
      "done scheduling\n",
      "done resolving block\n",
      "done z-resolving block\n",
      "done resolving block\n",
      "done z-resolving block\n",
      "done scheduling\n",
      "done resolving block\n",
      "done z-resolving block\n",
      "done resolving block\n",
      "done z-resolving block\n",
      "done scheduling\n",
      "done resolving block\n",
      "done z-resolving block\n",
      "done resolving block\n",
      "done z-resolving block\n",
      "done scheduling\n",
      "done resolving block\n",
      "done z-resolving block\n",
      "done resolving block\n",
      "done z-resolving block\n",
      "done scheduling\n",
      "done resolving block\n",
      "done z-resolving block\n",
      "done resolving block\n",
      "done z-resolving block\n",
      "done scheduling\n",
      "done resolving block\n",
      "done z-resolving block\n",
      "done resolving block\n",
      "done z-resolving block\n",
      "done scheduling\n",
      "done resolving block\n",
      "done z-resolving block\n",
      "done resolving block\n",
      "done z-resolving block\n",
      "done scheduling\n",
      "done resolving block\n",
      "done z-resolving block\n",
      "done resolving block\n",
      "done z-resolving block\n",
      "done scheduling\n",
      "done resolving block\n",
      "done z-resolving block\n",
      "done resolving block\n",
      "done z-resolving block\n",
      "done scheduling\n",
      "done resolving block\n",
      "done z-resolving block\n",
      "done resolving block\n",
      "done z-resolving block\n",
      "done scheduling\n",
      "done resolving block\n",
      "done z-resolving block\n",
      "done resolving block\n",
      "done z-resolving block\n",
      "done scheduling\n",
      "done resolving block\n",
      "done z-resolving block\n",
      "done resolving block\n",
      "done z-resolving block\n",
      "done scheduling\n",
      "done resolving block\n",
      "done z-resolving block\n",
      "done resolving block\n",
      "done z-resolving block\n",
      "done scheduling\n",
      "done resolving block\n",
      "done z-resolving block\n",
      "done resolving block\n",
      "done z-resolving block\n",
      "done scheduling\n",
      "done resolving block\n",
      "done z-resolving block\n",
      "done resolving block\n",
      "done z-resolving block\n",
      "done scheduling\n",
      "done resolving block\n",
      "done z-resolving block\n",
      "done resolving block\n",
      "done z-resolving block\n",
      "done scheduling\n",
      "done resolving block\n",
      "done z-resolving block\n",
      "done resolving block\n",
      "done z-resolving block\n",
      "done scheduling\n",
      "done resolving block\n",
      "done z-resolving block\n",
      "done resolving block\n",
      "done z-resolving block\n",
      "done scheduling\n",
      "done resolving block\n",
      "done z-resolving block\n",
      "done resolving block\n",
      "done z-resolving block\n",
      "done scheduling\n",
      "done resolving block\n",
      "done z-resolving block\n",
      "done resolving block\n",
      "done z-resolving block\n",
      "done scheduling\n",
      "done resolving block\n",
      "done z-resolving block\n",
      "done resolving block\n",
      "done z-resolving block\n",
      "done scheduling\n",
      "done resolving block\n",
      "done z-resolving block\n",
      "done resolving block\n",
      "done z-resolving block\n",
      "done scheduling\n",
      "done resolving block\n",
      "done z-resolving block\n",
      "done resolving block\n",
      "done z-resolving block\n",
      "done scheduling\n",
      "done resolving block\n",
      "done z-resolving block\n",
      "done resolving block\n",
      "done z-resolving block\n",
      "done scheduling\n",
      "done resolving block\n",
      "done z-resolving block\n",
      "done resolving block\n",
      "done z-resolving block\n",
      "done scheduling\n",
      "done resolving block\n",
      "done z-resolving block\n",
      "done resolving block\n",
      "done z-resolving block\n",
      "done scheduling\n",
      "done resolving block\n",
      "done z-resolving block\n",
      "done resolving block\n",
      "done z-resolving block\n",
      "done scheduling\n",
      "done resolving block\n",
      "done z-resolving block\n",
      "done resolving block\n",
      "done z-resolving block\n",
      "done scheduling\n"
     ]
    },
    {
     "name": "stdout",
     "output_type": "stream",
     "text": [
      "done resolving block\n",
      "done z-resolving block\n",
      "done resolving block\n",
      "done z-resolving block\n",
      "done scheduling\n",
      "done resolving block\n",
      "done z-resolving block\n",
      "done resolving block\n",
      "done z-resolving block\n",
      "done scheduling\n",
      "done resolving block\n",
      "done z-resolving block\n",
      "done resolving block\n",
      "done z-resolving block\n",
      "done scheduling\n",
      "done resolving block\n",
      "done z-resolving block\n",
      "done resolving block\n",
      "done z-resolving block\n",
      "done scheduling\n",
      "done resolving block\n",
      "done z-resolving block\n",
      "done resolving block\n",
      "done z-resolving block\n",
      "done scheduling\n",
      "done resolving block\n",
      "done z-resolving block\n",
      "done resolving block\n",
      "done z-resolving block\n",
      "done scheduling\n",
      "done resolving block\n",
      "done z-resolving block\n",
      "done resolving block\n",
      "done z-resolving block\n",
      "done scheduling\n",
      "done resolving block\n",
      "done z-resolving block\n",
      "done resolving block\n",
      "done z-resolving block\n",
      "done scheduling\n",
      "done resolving block\n",
      "done z-resolving block\n",
      "done resolving block\n",
      "done z-resolving block\n",
      "done scheduling\n",
      "done resolving block\n",
      "done z-resolving block\n",
      "done resolving block\n",
      "done z-resolving block\n",
      "done scheduling\n",
      "done resolving block\n",
      "done z-resolving block\n",
      "done resolving block\n",
      "done z-resolving block\n",
      "done scheduling\n",
      "done resolving block\n",
      "done z-resolving block\n",
      "done resolving block\n",
      "done z-resolving block\n",
      "done scheduling\n",
      "done resolving block\n",
      "done z-resolving block\n",
      "done resolving block\n",
      "done z-resolving block\n",
      "done scheduling\n",
      "done resolving block\n",
      "done z-resolving block\n",
      "done resolving block\n",
      "done z-resolving block\n",
      "done scheduling\n",
      "done resolving block\n",
      "done z-resolving block\n",
      "done resolving block\n",
      "done z-resolving block\n",
      "done scheduling\n"
     ]
    }
   ],
   "source": [
    "reload(rabi)\n",
    "num_partitions = 25\n",
    "irabi = rabi.RabiAmpSweeper(target_qubits, target_twidth, qchip, fpga_config, channel_config, num_partitions=num_partitions)"
   ]
  },
  {
   "cell_type": "code",
   "execution_count": 196,
   "id": "8991f66c",
   "metadata": {},
   "outputs": [],
   "source": [
    "# fit is A*sin(2*pi*x/drive_period + phi) + B, params are [A, B, drive_period, phi]\n",
    "prior_fit_params = {\n",
    "    'Q0' : [-0.5, 0.5, 0.5, 0], \n",
    "    'Q1' : [-0.5, 0.5, 0.8, 0], \n",
    "    'Q2' : [-0.5, 0.5, 0.8, 0], \n",
    "    'Q3' : [-0.5, 0.5, 0.8, 0], \n",
    "    'Q4' : [-0.5, 0.5, 0.8, 0], \n",
    "    'Q5' : [-0.5, 0.5, 0.8, 0], \n",
    "}"
   ]
  },
  {
   "cell_type": "code",
   "execution_count": 197,
   "id": "18a2345c",
   "metadata": {
    "scrolled": true
   },
   "outputs": [
    {
     "name": "stdout",
     "output_type": "stream",
     "text": [
      "Taking data for qubit Q0 in batch 1 of 4\n"
     ]
    },
    {
     "name": "stderr",
     "output_type": "stream",
     "text": [
      "100%|██████████| 25/25 [00:26<00:00,  1.08s/it]\n"
     ]
    },
    {
     "name": "stdout",
     "output_type": "stream",
     "text": [
      "Taking data for qubit Q1 in batch 2 of 4\n"
     ]
    },
    {
     "name": "stderr",
     "output_type": "stream",
     "text": [
      "100%|██████████| 25/25 [00:26<00:00,  1.08s/it]\n"
     ]
    },
    {
     "name": "stdout",
     "output_type": "stream",
     "text": [
      "Taking data for qubit Q2 in batch 3 of 4\n"
     ]
    },
    {
     "name": "stderr",
     "output_type": "stream",
     "text": [
      "100%|██████████| 25/25 [00:26<00:00,  1.08s/it]\n"
     ]
    },
    {
     "name": "stdout",
     "output_type": "stream",
     "text": [
      "Taking data for qubit Q3 in batch 4 of 4\n"
     ]
    },
    {
     "name": "stderr",
     "output_type": "stream",
     "text": [
      "100%|██████████| 25/25 [00:26<00:00,  1.08s/it]\n"
     ]
    }
   ],
   "source": [
    "irabi.run_and_fit(runner, 1000, prior_fit_params)"
   ]
  },
  {
   "cell_type": "code",
   "execution_count": 198,
   "id": "cfcb3e40",
   "metadata": {
    "scrolled": true
   },
   "outputs": [
    {
     "data": {
      "image/png": "[encoded data removed]",
      "text/plain": [
       "<Figure size 432x288 with 4 Axes>"
      ]
     },
     "metadata": {
      "needs_background": "light"
     },
     "output_type": "display_data"
    }
   ],
   "source": [
    "irabi.show_count_oscillations('Q0', target_qubits, show_fits=True)"
   ]
  },
  {
   "cell_type": "code",
   "execution_count": 199,
   "id": "55d3f569",
   "metadata": {
    "scrolled": true
   },
   "outputs": [
    {
     "data": {
      "image/png": "[encoded data removed]",
      "text/plain": [
       "<Figure size 432x288 with 4 Axes>"
      ]
     },
     "metadata": {
      "needs_background": "light"
     },
     "output_type": "display_data"
    }
   ],
   "source": [
    "irabi.show_count_oscillations('Q1', target_qubits, show_fits=True)"
   ]
  },
  {
   "cell_type": "code",
   "execution_count": 200,
   "id": "f74f63ba",
   "metadata": {
    "scrolled": true
   },
   "outputs": [
    {
     "data": {
      "image/png": "[encoded data removed]",
      "text/plain": [
       "<Figure size 432x288 with 4 Axes>"
      ]
     },
     "metadata": {
      "needs_background": "light"
     },
     "output_type": "display_data"
    }
   ],
   "source": [
    "irabi.show_count_oscillations('Q2', target_qubits, show_fits=True)"
   ]
  },
  {
   "cell_type": "code",
   "execution_count": 201,
   "id": "18514adb",
   "metadata": {},
   "outputs": [
    {
     "data": {
      "image/png": "[encoded data removed]",
      "text/plain": [
       "<Figure size 432x288 with 4 Axes>"
      ]
     },
     "metadata": {
      "needs_background": "light"
     },
     "output_type": "display_data"
    }
   ],
   "source": [
    "irabi.show_count_oscillations('Q3', target_qubits, show_fits=True)"
   ]
  },
  {
   "cell_type": "code",
   "execution_count": 204,
   "id": "f54debca",
   "metadata": {},
   "outputs": [],
   "source": [
    "calibrated_X90_drive_amps = {qid: irabi.fits[qid][0][2]/4 for qid in target_qubits}"
   ]
  },
  {
   "cell_type": "code",
   "execution_count": 205,
   "id": "06727c22",
   "metadata": {},
   "outputs": [
    {
     "name": "stdout",
     "output_type": "stream",
     "text": [
      "{'Q0': 0.10846836047954282, 'Q1': 0.45624646710045597, 'Q2': 0.3699477309448735, 'Q3': 0.18955173016636584}\n"
     ]
    }
   ],
   "source": [
    "print(calibrated_X90_drive_amps)"
   ]
  },
  {
   "cell_type": "code",
   "execution_count": 203,
   "id": "06416e13",
   "metadata": {},
   "outputs": [],
   "source": [
    "irabi.update_qchip(qchip)\n",
    "qchip.save('../submodules/qchip/X4Y2/X4Y2_rabi_amp_cal.json')"
   ]
  },
  {
   "cell_type": "markdown",
   "id": "48e7f630",
   "metadata": {},
   "source": [
    "## DEBUG WORK"
   ]
  },
  {
   "cell_type": "code",
   "execution_count": 143,
   "id": "8279ab29",
   "metadata": {},
   "outputs": [],
   "source": [
    "q3counts = np.average(irabi.dataset['Q3']['Q3'], axis=1).flatten()\n",
    "q1counts = np.average(irabi.dataset['Q1']['Q1'], axis=1).flatten()\n",
    "q2counts = np.average(irabi.dataset['Q2']['Q2'], axis=1).flatten()"
   ]
  },
  {
   "cell_type": "code",
   "execution_count": 149,
   "id": "e7122372",
   "metadata": {},
   "outputs": [
    {
     "data": {
      "text/plain": [
       "[<matplotlib.lines.Line2D at 0xffff401eb6d0>]"
      ]
     },
     "execution_count": 149,
     "metadata": {},
     "output_type": "execute_result"
    },
    {
     "data": {
      "image/png": "[encoded data removed]",
      "text/plain": [
       "<Figure size 432x288 with 1 Axes>"
      ]
     },
     "metadata": {
      "needs_background": "light"
     },
     "output_type": "display_data"
    }
   ],
   "source": [
    "plt.plot(q2counts)"
   ]
  },
  {
   "cell_type": "code",
   "execution_count": 111,
   "id": "c9d781de",
   "metadata": {},
   "outputs": [],
   "source": [
    "import numpy.fft as fft"
   ]
  },
  {
   "cell_type": "code",
   "execution_count": 151,
   "id": "798f0411",
   "metadata": {
    "scrolled": false
   },
   "outputs": [
    {
     "data": {
      "text/plain": [
       "[<matplotlib.lines.Line2D at 0xffff400c8cd0>]"
      ]
     },
     "execution_count": 151,
     "metadata": {},
     "output_type": "execute_result"
    },
    {
     "data": {
      "image/png": "[encoded data removed]",
      "text/plain": [
       "<Figure size 432x288 with 1 Axes>"
      ]
     },
     "metadata": {
      "needs_background": "light"
     },
     "output_type": "display_data"
    }
   ],
   "source": [
    "plt.plot(np.fft.fftfreq(len(q3counts), 1/len(q3counts)), np.real(fft.fft(q3counts)), '.')\n",
    "plt.plot(np.fft.fftfreq(len(q3counts), 1/len(q3counts)), np.imag(fft.fft(q3counts)), '.')"
   ]
  },
  {
   "cell_type": "code",
   "execution_count": 146,
   "id": "deadb28c",
   "metadata": {},
   "outputs": [
    {
     "data": {
      "text/plain": [
       "0"
      ]
     },
     "execution_count": 146,
     "metadata": {},
     "output_type": "execute_result"
    }
   ],
   "source": [
    "np.argmax(np.abs(fft.rfft(q3counts)[1:]))"
   ]
  },
  {
   "cell_type": "code",
   "execution_count": 83,
   "id": "9bf53235",
   "metadata": {
    "scrolled": true
   },
   "outputs": [
    {
     "data": {
      "text/plain": [
       "array([0.  , 0.04, 0.08, 0.12, 0.16, 0.2 , 0.24, 0.28, 0.32, 0.36, 0.4 ,\n",
       "       0.44, 0.48])"
      ]
     },
     "execution_count": 83,
     "metadata": {},
     "output_type": "execute_result"
    }
   ],
   "source": [
    "fft.rfftfreq(len(q3counts))"
   ]
  },
  {
   "cell_type": "code",
   "execution_count": 85,
   "id": "3ed28efa",
   "metadata": {},
   "outputs": [
    {
     "data": {
      "text/plain": [
       "25.0"
      ]
     },
     "execution_count": 85,
     "metadata": {},
     "output_type": "execute_result"
    }
   ],
   "source": [
    "1/0.04"
   ]
  },
  {
   "cell_type": "code",
   "execution_count": 117,
   "id": "c6aa6a47",
   "metadata": {},
   "outputs": [
    {
     "data": {
      "text/plain": [
       "array([  0.,   1.,   2.,   3.,   4.,   5.,   6.,   7.,   8.,   9.,  10.,\n",
       "        11.,  12., -12., -11., -10.,  -9.,  -8.,  -7.,  -6.,  -5.,  -4.,\n",
       "        -3.,  -2.,  -1.])"
      ]
     },
     "execution_count": 117,
     "metadata": {},
     "output_type": "execute_result"
    }
   ],
   "source": [
    "np.fft.fftfreq(len(q3counts), 1/len(q3counts))"
   ]
  },
  {
   "cell_type": "code",
   "execution_count": 101,
   "id": "4b1281fe",
   "metadata": {},
   "outputs": [
    {
     "data": {
      "text/plain": [
       "<function numpy.fft.fft(a, n=None, axis=-1, norm=None)>"
      ]
     },
     "execution_count": 101,
     "metadata": {},
     "output_type": "execute_result"
    }
   ],
   "source": [
    "np.fft.fft"
   ]
  },
  {
   "cell_type": "code",
   "execution_count": 158,
   "id": "555e46ce",
   "metadata": {},
   "outputs": [],
   "source": [
    "irabi._fit_count_data(prior_fit_params, False)"
   ]
  },
  {
   "cell_type": "code",
   "execution_count": 213,
   "id": "6abf6f98",
   "metadata": {},
   "outputs": [],
   "source": [
    "import pickle as pkl"
   ]
  },
  {
   "cell_type": "code",
   "execution_count": 214,
   "id": "d72b88ab",
   "metadata": {},
   "outputs": [],
   "source": [
    "pkl.dump?"
   ]
  },
  {
   "cell_type": "code",
   "execution_count": 217,
   "id": "9d18882a",
   "metadata": {},
   "outputs": [],
   "source": []
  },
  {
   "cell_type": "code",
   "execution_count": 223,
   "id": "78d354a7",
   "metadata": {},
   "outputs": [],
   "source": [
    "with open('gmm_test.pkl', 'rb') as f:\n",
    "    gmm_load = pkl.load(f)"
   ]
  },
  {
   "cell_type": "code",
   "execution_count": 226,
   "id": "f74d4fea",
   "metadata": {},
   "outputs": [
    {
     "data": {
      "text/plain": [
       "{}"
      ]
     },
     "execution_count": 226,
     "metadata": {},
     "output_type": "execute_result"
    }
   ],
   "source": [
    "irabi.gmm_manager.gmm_dict"
   ]
  },
  {
   "cell_type": "code",
   "execution_count": null,
   "id": "77699c21",
   "metadata": {},
   "outputs": [],
   "source": []
  }
 ],
 "metadata": {
  "kernelspec": {
   "display_name": "Python 3 (ipykernel)",
   "language": "python",
   "name": "python3"
  },
  "language_info": {
   "codemirror_mode": {
    "name": "ipython",
    "version": 3
   },
   "file_extension": ".py",
   "mimetype": "text/x-python",
   "name": "python",
   "nbconvert_exporter": "python",
   "pygments_lexer": "ipython3",
   "version": "3.10.4"
  }
 },
 "nbformat": 4,
 "nbformat_minor": 5
}
