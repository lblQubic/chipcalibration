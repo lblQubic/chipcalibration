{
 "cells": [
  {
   "cell_type": "markdown",
   "id": "86fcb459",
   "metadata": {},
   "source": [
    "# Make sure the switch box setting connect the ZCU216 to the quantum chip \n",
    "Switchs wiring diagram can be found at: <br>\n",
    "https://docs.google.com/document/d/19PCMW-sWQP9IDaH1ihExrhLNKL3zvspGWfvfol0w36c/edit#\n",
    "\n",
    "X4Y2: <br> switchbox.switchset('http://192.168.1.204','AB')\n",
    "\n",
    "X4Y1: <br>\n",
    "switchbox.switchset('http://192.168.1.204','BD')<br>\n",
    "switchbox.switchset('http://192.168.1.215','CD')"
   ]
  },
  {
   "cell_type": "code",
   "execution_count": 3,
   "id": "e4cea88c",
   "metadata": {},
   "outputs": [
    {
     "data": {
      "text/plain": [
       "'/home/xilinx/jupyter_notebooks/cal_repo_examples'"
      ]
     },
     "execution_count": 3,
     "metadata": {},
     "output_type": "execute_result"
    }
   ],
   "source": [
    "pwd"
   ]
  },
  {
   "cell_type": "code",
   "execution_count": 1,
   "id": "805d0c3c",
   "metadata": {
    "scrolled": true
   },
   "outputs": [
    {
     "data": {
      "text/plain": [
       "'b\\'<HTML>\\\\r\\\\n<HEAD>\\\\r\\\\n<TITLE>RF Switch Box</TITLE>\\\\r\\\\n</HEAD>\\\\r\\\\n<BODY>\\\\r\\\\n<H1>RF Switch Box</H1>\\\\r\\\\n<hr />\\\\r\\\\n\\\\r\\\\n<B>Connected ports: A-B, C-D </B>\\\\r\\\\n<br>\\\\r\\\\n<input type=submit value=\"Toggle Switch\" target=inlineframe style=width:200px;height:45px onClick=location.href=\\\\\\'/?buttonToggle;\\\\\\'>\\\\r\\\\n\\\\r\\\\n\\\\r\\\\n</BODY>\\\\r\\\\n</HTML>\\\\r\\\\n\\''"
      ]
     },
     "execution_count": 1,
     "metadata": {},
     "output_type": "execute_result"
    }
   ],
   "source": [
    "#import sys\n",
    "#sys.path.append(\"../chipcalibration/chipcalibration\")\n",
    "#import switchbox\n",
    "from chipcalibration import switchbox\n",
    "switchbox.switchset('http://192.168.1.204','AB')"
   ]
  },
  {
   "cell_type": "code",
   "execution_count": 1,
   "id": "f7083f81",
   "metadata": {},
   "outputs": [
    {
     "name": "stdout",
     "output_type": "stream",
     "text": [
      "warning: failed to import ipdb\n",
      "warning: could not import ipdb\n",
      "warning: failed to import ipdb\n"
     ]
    }
   ],
   "source": [
    "#%matplotlib widget #need this for click GUIs\n",
    "import qubic.toolchain as tc\n",
    "import qubic.run as rc\n",
    "import qubitconfig.qchip as qc\n",
    "from distproc.hwconfig import FPGAConfig, load_channel_configs\n",
    "import numpy as np\n",
    "import matplotlib.pyplot as plt\n",
    "from chipcalibration import rcal\n",
    "from importlib import reload\n",
    "import qubic.state_disc as sd"
   ]
  },
  {
   "cell_type": "code",
   "execution_count": 3,
   "id": "d3181f3e",
   "metadata": {},
   "outputs": [],
   "source": []
  },
  {
   "cell_type": "code",
   "execution_count": 2,
   "id": "c0486dbf",
   "metadata": {},
   "outputs": [],
   "source": [
    "fpga_config = FPGAConfig(**{'fpga_clk_period': 2.e-9, 'alu_instr_clks': 5, 'jump_cond_clks': 5, 'jump_fproc_clks': 5, 'pulse_regwrite_clks': 3})\n",
    "\n",
    "qchipname = 'X4Y2'\n",
    "qchip = qc.QChip('X4Y2_punchout_20230403.json')\n",
    "chanmap = {'Q0':7,'Q2':1,'Q1':4,'Q3':3,'Q4':5,'Q5':6,'Q6':2}\n",
    "\n",
    "channel_config = load_channel_configs('channel_config.json')"
   ]
  },
  {
   "cell_type": "code",
   "execution_count": 3,
   "id": "366e7736",
   "metadata": {},
   "outputs": [
    {
     "data": {
      "application/javascript": [
       "\n",
       "try {\n",
       "require(['notebook/js/codecell'], function(codecell) {\n",
       "  codecell.CodeCell.options_default.highlight_modes[\n",
       "      'magic_text/x-csrc'] = {'reg':[/^%%microblaze/]};\n",
       "  Jupyter.notebook.events.one('kernel_ready.Kernel', function(){\n",
       "      Jupyter.notebook.get_cells().map(function(cell){\n",
       "          if (cell.cell_type == 'code'){ cell.auto_highlight(); } }) ;\n",
       "  });\n",
       "});\n",
       "} catch (e) {};\n"
      ]
     },
     "metadata": {},
     "output_type": "display_data"
    },
    {
     "data": {
      "application/javascript": [
       "\n",
       "try {\n",
       "require(['notebook/js/codecell'], function(codecell) {\n",
       "  codecell.CodeCell.options_default.highlight_modes[\n",
       "      'magic_text/x-csrc'] = {'reg':[/^%%pybind11/]};\n",
       "  Jupyter.notebook.events.one('kernel_ready.Kernel', function(){\n",
       "      Jupyter.notebook.get_cells().map(function(cell){\n",
       "          if (cell.cell_type == 'code'){ cell.auto_highlight(); } }) ;\n",
       "  });\n",
       "});\n",
       "} catch (e) {};\n"
      ]
     },
     "metadata": {},
     "output_type": "display_data"
    }
   ],
   "source": [
    "reload(rc)\n",
    "runner = rc.CircuitRunner(load_xsa=True)"
   ]
  },
  {
   "cell_type": "code",
   "execution_count": 146,
   "id": "ddbdf395",
   "metadata": {},
   "outputs": [
    {
     "name": "stdout",
     "output_type": "stream",
     "text": [
      "done resolving block\n",
      "done z-resolving block\n",
      "done resolving block\n",
      "done z-resolving block\n",
      "done scheduling\n",
      "done resolving block\n",
      "done z-resolving block\n",
      "done resolving block\n",
      "done z-resolving block\n",
      "done scheduling\n"
     ]
    }
   ],
   "source": [
    "reload(rcal)\n",
    "q='Q2'\n",
    "drvqubit=['Q']\n",
    "readqubits=['Q2','Q3']#,'Q4']\n",
    "readqubits=['Q4']\n",
    "drvqubit=[q]\n",
    "readqubits=[q]\n",
    "#readqubits=['Q3']\n",
    "i_rcal = rcal.Rcal(drvqubit=drvqubit, readqubits=readqubits,\n",
    "                   qchip=qchip, \n",
    "                   fpga_config=fpga_config, channel_configs=channel_config)\n"
   ]
  },
  {
   "cell_type": "code",
   "execution_count": 147,
   "id": "8d5595ff",
   "metadata": {
    "scrolled": true
   },
   "outputs": [
    {
     "name": "stderr",
     "output_type": "stream",
     "text": [
      "100%|██████████| 2/2 [00:01<00:00,  1.53it/s]"
     ]
    },
    {
     "name": "stdout",
     "output_type": "stream",
     "text": [
      "{'Q3': array([978])}\n",
      "{'Q3': array([22])}\n",
      "{'Q3': array([168])}\n",
      "{'Q3': array([832])}\n"
     ]
    },
    {
     "name": "stderr",
     "output_type": "stream",
     "text": [
      "\n"
     ]
    }
   ],
   "source": [
    "i_rcal.run(runner, 1000)\n",
    "print(i_rcal.prep0_read0)\n",
    "print(i_rcal.prep0_read1)\n",
    "print(i_rcal.prep1_read0)\n",
    "print(i_rcal.prep1_read1)"
   ]
  },
  {
   "cell_type": "code",
   "execution_count": null,
   "id": "9895471b",
   "metadata": {},
   "outputs": [],
   "source": []
  },
  {
   "cell_type": "code",
   "execution_count": 109,
   "id": "9558d828",
   "metadata": {},
   "outputs": [
    {
     "name": "stdout",
     "output_type": "stream",
     "text": [
      "done resolving block\n",
      "done z-resolving block\n",
      "done resolving block\n",
      "done z-resolving block\n",
      "done scheduling\n",
      "done resolving block\n",
      "done z-resolving block\n",
      "done resolving block\n",
      "done z-resolving block\n",
      "done scheduling\n"
     ]
    }
   ],
   "source": [
    "compiled_rcal = tc.run_compile_stage(i_rcal.circuits, fpga_config, qchip)"
   ]
  },
  {
   "cell_type": "code",
   "execution_count": 110,
   "id": "8533b3a1",
   "metadata": {},
   "outputs": [
    {
     "data": {
      "text/plain": [
       "{('Q4.qdrv', 'Q4.rdrv', 'Q4.rdlo'): [{'op': 'phase_reset'},\n",
       "  {'op': 'pulse',\n",
       "   'freq': 5350927547.979777,\n",
       "   'phase': 0.0,\n",
       "   'amp': 0.2872115471046084,\n",
       "   'env': {'env_func': 'cos_edge_square',\n",
       "    'paradict': {'ramp_fraction': 0.25, 'twidth': 3.2e-08}},\n",
       "   'start_time': 200005,\n",
       "   'dest': 'Q4.qdrv'},\n",
       "  {'op': 'pulse',\n",
       "   'freq': 5350927547.979777,\n",
       "   'phase': 0.0,\n",
       "   'amp': 0.2872115471046084,\n",
       "   'env': {'env_func': 'cos_edge_square',\n",
       "    'paradict': {'ramp_fraction': 0.25, 'twidth': 3.2e-08}},\n",
       "   'start_time': 200021,\n",
       "   'dest': 'Q4.qdrv'},\n",
       "  {'op': 'pulse',\n",
       "   'freq': 6711440184.690463,\n",
       "   'phase': 0.0,\n",
       "   'amp': 0.016127662739686993,\n",
       "   'env': {'env_func': 'cos_edge_square',\n",
       "    'paradict': {'ramp_fraction': 0.25, 'twidth': 4e-06}},\n",
       "   'start_time': 200037,\n",
       "   'dest': 'Q4.rdrv'},\n",
       "  {'op': 'pulse',\n",
       "   'freq': 6711440184.690463,\n",
       "   'phase': 3.624878768638384,\n",
       "   'amp': 1.0,\n",
       "   'env': {'env_func': 'square',\n",
       "    'paradict': {'phase': 0.0, 'amplitude': 1.0, 'twidth': 4e-06}},\n",
       "   'start_time': 200337,\n",
       "   'dest': 'Q4.rdlo'},\n",
       "  {'op': 'done_stb'}]}"
      ]
     },
     "execution_count": 110,
     "metadata": {},
     "output_type": "execute_result"
    }
   ],
   "source": [
    "compiled_rcal[1].program"
   ]
  },
  {
   "cell_type": "code",
   "execution_count": 111,
   "id": "ee04bb7f",
   "metadata": {
    "scrolled": true
   },
   "outputs": [
    {
     "name": "stdout",
     "output_type": "stream",
     "text": [
      "> \u001b[0;32m/home/xilinx/software/qubic/run.py\u001b[0m(226)\u001b[0;36mrun_circuit_batch\u001b[0;34m()\u001b[0m\n",
      "\u001b[0;32m    224 \u001b[0;31m            \u001b[0ms11_i\u001b[0m \u001b[0;34m=\u001b[0m \u001b[0mself\u001b[0m\u001b[0;34m.\u001b[0m\u001b[0mrun_circuit\u001b[0m\u001b[0;34m(\u001b[0m\u001b[0mn_total_shots\u001b[0m\u001b[0;34m,\u001b[0m \u001b[0mreads_per_shot\u001b[0m\u001b[0;34m,\u001b[0m \u001b[0mdelay_per_shot\u001b[0m\u001b[0;34m)\u001b[0m\u001b[0;34m\u001b[0m\u001b[0;34m\u001b[0m\u001b[0m\n",
      "\u001b[0m\u001b[0;32m    225 \u001b[0;31m            \u001b[0;32mfor\u001b[0m \u001b[0mch\u001b[0m \u001b[0;32min\u001b[0m \u001b[0ms11_i\u001b[0m\u001b[0;34m.\u001b[0m\u001b[0mkeys\u001b[0m\u001b[0;34m(\u001b[0m\u001b[0;34m)\u001b[0m\u001b[0;34m:\u001b[0m\u001b[0;34m\u001b[0m\u001b[0;34m\u001b[0m\u001b[0m\n",
      "\u001b[0m\u001b[0;32m--> 226 \u001b[0;31m                \u001b[0ms11\u001b[0m\u001b[0;34m[\u001b[0m\u001b[0mch\u001b[0m\u001b[0;34m]\u001b[0m\u001b[0;34m[\u001b[0m\u001b[0mi\u001b[0m\u001b[0;34m]\u001b[0m \u001b[0;34m=\u001b[0m \u001b[0ms11_i\u001b[0m\u001b[0;34m[\u001b[0m\u001b[0mch\u001b[0m\u001b[0;34m]\u001b[0m\u001b[0;34m\u001b[0m\u001b[0;34m\u001b[0m\u001b[0m\n",
      "\u001b[0m\u001b[0;32m    227 \u001b[0;31m\u001b[0;34m\u001b[0m\u001b[0m\n",
      "\u001b[0m\u001b[0;32m    228 \u001b[0;31m        \u001b[0;32mreturn\u001b[0m \u001b[0ms11\u001b[0m\u001b[0;34m\u001b[0m\u001b[0;34m\u001b[0m\u001b[0m\n",
      "\u001b[0m\n",
      "--KeyboardInterrupt--\n",
      "\n",
      "KeyboardInterrupt: Interrupted by user\n"
     ]
    }
   ],
   "source": [
    "debug"
   ]
  },
  {
   "cell_type": "code",
   "execution_count": 49,
   "id": "58bf4420",
   "metadata": {},
   "outputs": [
    {
     "data": {
      "text/plain": [
       "[[{'name': 'delay', 't': 0.0004}, {'name': 'read', 'qubit': ['Q3']}],\n",
       " [{'name': 'delay', 't': 0.0004},\n",
       "  {'name': 'X90', 'qubit': ['Q3']},\n",
       "  {'name': 'X90', 'qubit': ['Q3']},\n",
       "  {'name': 'read', 'qubit': ['Q3']}]]"
      ]
     },
     "execution_count": 49,
     "metadata": {},
     "output_type": "execute_result"
    }
   ],
   "source": [
    "i_rcal.circuits"
   ]
  },
  {
   "cell_type": "code",
   "execution_count": null,
   "id": "22b6c91c",
   "metadata": {},
   "outputs": [],
   "source": [
    "[[{'name': 'delay', 't': 0.0004}, {'name': 'read', 'qubit': ['Q3']}],\n",
    " [{'name': 'delay', 't': 0.0004},\n",
    "  {'name': 'X90', 'qubit': ['Q3']},\n",
    "  {'name': 'barrier', 'qubit': ['Q3','Q4']}\n",
    "  {'name': 'X90', 'qubit': ['Q3']},\n",
    "  {'name': 'X90', 'qubit': ['Q4']},\n",
    "  {'name': 'read', 'qubit': ['Q3']}]]"
   ]
  },
  {
   "cell_type": "code",
   "execution_count": 51,
   "id": "af052fc9",
   "metadata": {},
   "outputs": [
    {
     "data": {
      "text/plain": [
       "['__class__',\n",
       " '__delattr__',\n",
       " '__dict__',\n",
       " '__dir__',\n",
       " '__doc__',\n",
       " '__eq__',\n",
       " '__format__',\n",
       " '__ge__',\n",
       " '__getattribute__',\n",
       " '__gt__',\n",
       " '__hash__',\n",
       " '__init__',\n",
       " '__init_subclass__',\n",
       " '__le__',\n",
       " '__lt__',\n",
       " '__module__',\n",
       " '__ne__',\n",
       " '__new__',\n",
       " '__reduce__',\n",
       " '__reduce_ex__',\n",
       " '__repr__',\n",
       " '__setattr__',\n",
       " '__sizeof__',\n",
       " '__str__',\n",
       " '__subclasshook__',\n",
       " '__weakref__',\n",
       " '_fit_gmm',\n",
       " '_make_rcal_circuits',\n",
       " 'circuits',\n",
       " 'gmm_manager',\n",
       " 'prep0_read0',\n",
       " 'prep0_read1',\n",
       " 'prep1_read0',\n",
       " 'prep1_read1',\n",
       " 'raw_asm_progs',\n",
       " 'readout_chanmap',\n",
       " 'run',\n",
       " 's11',\n",
       " 'state_disc_shots']"
      ]
     },
     "execution_count": 51,
     "metadata": {},
     "output_type": "execute_result"
    }
   ],
   "source": [
    "dir(i_rcal)"
   ]
  },
  {
   "cell_type": "code",
   "execution_count": 52,
   "id": "98f6432b",
   "metadata": {},
   "outputs": [
    {
     "data": {
      "text/plain": [
       "[{3: {'cmd_list': [233944127258145193631070042609340645376,\n",
       "    191460510973316961355201785475534792864,\n",
       "    191460510973466518701855800811665346080,\n",
       "    212676479325586539664609129644855132160],\n",
       "   'env_buffers': [array([], dtype=int64),\n",
       "    array([     0,      0,  65536, ..., 131072,  65536,      0]),\n",
       "    array([2147418112, 2147418112, 2147418112, ..., 2147418112, 2147418112,\n",
       "           2147418112])],\n",
       "   'freq_buffers': [array([], dtype=float64),\n",
       "    array([1.72174781e+09, 1.12266928e+09, 3.32140081e+09, 2.15442786e+09,\n",
       "           3.03041112e+09, 8.18378326e+08, 2.12029140e+09, 1.39857891e+09,\n",
       "           3.63702020e+09, 2.20848992e+09, 2.77134392e+09, 4.93452434e+08,\n",
       "           2.03955611e+09, 1.63916526e+09, 3.96928652e+09, 2.31530865e+09]),\n",
       "    array([1.72174781e+09, 3.03041112e+09, 3.63702020e+09, 2.03955611e+09])]}},\n",
       " {3: {'cmd_list': [233944127258145193631070042609340645376,\n",
       "    191450410333334342823369120523695007904,\n",
       "    191450410333334342823369120523695008160,\n",
       "    191460510973316961355201785475534793376,\n",
       "    191460510973466518701855800811665346592,\n",
       "    212676479325586539664609129644855132160],\n",
       "   'env_buffers': [array([         0,    5111808,   20578304,   46202880,   81723392,\n",
       "            126746624,  180944896,  243662848,  314441728,  392495104,\n",
       "            477167616,  567541760,  662765568,  761987072,  864223232,\n",
       "            968425472, 1073676288, 1178927104, 1283129344, 1385365504,\n",
       "           1484587008, 1579810816, 1670184960, 1754857472, 1832910848,\n",
       "           1903689728, 1966407680, 2020605952, 2065629184, 2101149696,\n",
       "           2126774272, 2142240768, 2147418112, 2147418112, 2147418112,\n",
       "           2147418112, 2147418112, 2147418112, 2147418112, 2147418112,\n",
       "           2147418112, 2147418112, 2147418112, 2147418112, 2147418112,\n",
       "           2147418112, 2147418112, 2147418112, 2147418112, 2147418112,\n",
       "           2147418112, 2147418112, 2147418112, 2147418112, 2147418112,\n",
       "           2147418112, 2147418112, 2147418112, 2147418112, 2147418112,\n",
       "           2147418112, 2147418112, 2147418112, 2147418112, 2147418112,\n",
       "           2147418112, 2147418112, 2147418112, 2147418112, 2147418112,\n",
       "           2147418112, 2147418112, 2147418112, 2147418112, 2147418112,\n",
       "           2147418112, 2147418112, 2147418112, 2147418112, 2147418112,\n",
       "           2147418112, 2147418112, 2147418112, 2147418112, 2147418112,\n",
       "           2147418112, 2147418112, 2147418112, 2147418112, 2147418112,\n",
       "           2147418112, 2147418112, 2147418112, 2147418112, 2147418112,\n",
       "           2147418112, 2147418112, 2142240768, 2126774272, 2101149696,\n",
       "           2065629184, 2020605952, 1966407680, 1903689728, 1832910848,\n",
       "           1754857472, 1670184960, 1579810816, 1484587008, 1385365504,\n",
       "           1283129344, 1178927104, 1073676288,  968425472,  864223232,\n",
       "            761987072,  662765568,  567541760,  477167616,  392495104,\n",
       "            314441728,  243662848,  180944896,  126746624,   81723392,\n",
       "             46202880,   20578304,    5111808]),\n",
       "    array([     0,      0,  65536, ..., 131072,  65536,      0]),\n",
       "    array([2147418112, 2147418112, 2147418112, ..., 2147418112, 2147418112,\n",
       "           2147418112])],\n",
       "   'freq_buffers': [array([1.07374182e+09, 2.93271067e+09, 3.87602778e+09, 1.89390942e+09,\n",
       "           2.31104896e+09, 6.23409788e+08, 1.19305564e+09, 2.15790708e+09,\n",
       "           1.51849229e+09, 2.10534559e+08, 2.50945718e+09, 2.05495633e+09,\n",
       "           3.47324666e+09, 3.28272714e+09, 2.10618958e+09, 2.63505070e+09]),\n",
       "    array([1.72174781e+09, 1.12266928e+09, 3.32140081e+09, 2.15442786e+09,\n",
       "           3.03041112e+09, 8.18378326e+08, 2.12029140e+09, 1.39857891e+09,\n",
       "           3.63702020e+09, 2.20848992e+09, 2.77134392e+09, 4.93452434e+08,\n",
       "           2.03955611e+09, 1.63916526e+09, 3.96928652e+09, 2.31530865e+09]),\n",
       "    array([1.72174781e+09, 3.03041112e+09, 3.63702020e+09, 2.03955611e+09])]}}]"
      ]
     },
     "execution_count": 52,
     "metadata": {},
     "output_type": "execute_result"
    }
   ],
   "source": [
    "i_rcal.raw_asm_progs"
   ]
  },
  {
   "cell_type": "code",
   "execution_count": 125,
   "id": "bddb7ec1",
   "metadata": {},
   "outputs": [
    {
     "data": {
      "text/plain": [
       "dict_keys([3])"
      ]
     },
     "execution_count": 125,
     "metadata": {},
     "output_type": "execute_result"
    }
   ],
   "source": [
    "i_rcal.s11.keys()"
   ]
  },
  {
   "cell_type": "code",
   "execution_count": 136,
   "id": "6daf60b6",
   "metadata": {},
   "outputs": [
    {
     "data": {
      "text/plain": [
       "[<matplotlib.lines.Line2D at 0xffff519bf640>]"
      ]
     },
     "execution_count": 136,
     "metadata": {},
     "output_type": "execute_result"
    },
    {
     "data": {
      "application/vnd.jupyter.widget-view+json": {
       "model_id": "28ef57c8292240d993496dcb01be33bf",
       "version_major": 2,
       "version_minor": 0
      },
      "image/png": "[encoded data removed]",
      "text/html": [
       "\n",
       "            <div style=\"display: inline-block;\">\n",
       "                <div class=\"jupyter-widgets widget-label\" style=\"text-align: center;\">\n",
       "                    Figure\n",
       "                </div>\n",
       "                <img src='data:image/png;base64,iVBORw0KGgoAAAANSUhEUgAAAoAAAAHgCAYAAAA10dzkAAAAOXRFWHRTb2Z0d2FyZQBNYXRwbG90bGliIHZlcnNpb24zLjUuMSwgaHR0cHM6Ly9tYXRwbG90bGliLm9yZy/YYfK9AAAACXBIWXMAAA9hAAAPYQGoP6dpAAAs2ElEQVR4nO3dfXQU9aH/8c8mgfCYoSUEkhIJeoVACUjBkE1F0UsDFQRFEIonUE6lcj1cBX61Qn0Cj5pCT63lAtqDDyiGwu8qodjSAP0JEYVAAqzaEoFCICCsGIRdnkxCMr8/aLaGBEhCsk/f9+uc/SPDzM53ptR9852dicO2bVsAAAAwRkSgBwAAAAD/IgABAAAMQwACAAAYhgAEAAAwDAEIAABgGAIQAADAMAQgAACAYQhAAAAAwxCAAAAAhiEAAQAADEMAAgAAGIYABAAAMAwBCAAAYBgCEAAAwDAEIAAAgGEIQAAAAMMQgAAAAIYhAAEAAAxDAAIAABiGAAQAADAMAQgAAGAYAhAAAMAwBCAAAIBhCEAAAADDEIAAAACGIQABAAAMQwACAAAYhgAEAAAwDAEIAABgGAIQAADAMAQgAACAYQhAAAAAwxCAAAAAhiEAAQAADEMAAgAAGIYABAAAMAwBCAAAYBgCEAAAwDAEIAAAgGEIQAAAAMMQgAAAAIYhAAEAAAxDADaRDz/8UPfcc48SEhLkcDi0Zs2aBr/H+vXrlZaWpvbt26tTp066//77VVxc3PSDBQAARiMAm8i5c+fUr18/LVq0qFHbHzx4UKNHj9Zdd90ll8ul9evXq7S0VGPGjGnikQIAANM5bNu2Az2IcONwOJSTk6N7773Xt6y8vFxPPfWUsrOzdfr0afXp00fz58/XkCFDJEnvvvuufvKTn6isrEwREZe6/P3339fo0aNVVlamFi1aBOBIAABAOGIG0E+mTJmijz/+WCtXrtSnn36qcePGafjw4dq/f78kaeDAgYqMjNSbb76pyspKeTweLV++XBkZGcQfAABoUswANoPLZwAPHDigm2++WUePHlVCQoJvvaFDhyo1NVUvvviipEvfIxw3bpxOnjypyspKOZ1OrVu3Th06dAjAUQAAgHDFDKAf7Nq1S7Ztq0ePHmrXrp3vlZeXpwMHDkiS3G63HnroIU2ePFkFBQXKy8tTy5YtNXbsWNHoAACgKUUFegAmqKqqUmRkpHbu3KnIyMgaf9auXTtJ0uLFixUTE6MFCxb4/uydd95RYmKitm/frrS0NL+OGQAAhC8C0A/69++vyspKnThxQoMHD65znfPnz9eKw+qfq6qqmn2MAADAHFwCbiJnz56Vy+WSy+WSJBUXF8vlcqmkpEQ9evTQgw8+qEmTJmn16tUqLi5WQUGB5s+fr3Xr1kmSRowYoYKCAj333HPav3+/du3apSlTpqhbt27q379/AI8MAACEG24CaSKbN2/WnXfeWWv55MmTtWzZMlVUVOj555/X22+/rS+++EIdO3aU0+nUvHnzlJKSIklauXKlFixYoH379qlNmzZyOp2aP3++kpOT/X04AAAgjBGAAAAAhuESMAAAgGEIQAAAAMMQgAAAAIbhMTDXoaqqSseOHVP79u3lcDgCPRwAAFAPtm3rzJkzSkhIUESEmXNhBOB1OHbsmBITEwM9DAAA0AhHjhxR165dAz2MgCAAr0P79u0lXfoLFBMTE+DRAACA+vB6vUpMTPR9jpuIALwO1Zd9Y2JiCEAAAEKMyV/fMvPCNwAAgMEIQAAAAMMQgAAAAIYhAAEAAAxDAAIAABiGAAQAADAMAQgAAGAYAhAAAMAwBCAAAIBhCEAAAADDEIBh4LjngrYeKNVxz4VADwUAAIQAfhdwiFtVUKI5qz9TlS1FOKSsMSkaf+sNgR4WAAAIYgRgCDnuuaDi0nNq2zJS58or1bZlpC/+JKnKln61+u+6vUcnxVutAztYAAAQtAjAIFYdfN1j2+rDfV/ViL0rqbRt/XF7if6zV5zOlVeqe2xbYhAAANTgsG37GkmBK/F6vbIsSx6PRzExMU363qsKSjT7vc9kS3L8a1lj/ofisjAAADU15+d3qOAmkCB03HPBF3/SpfBrbKVXXxbmBhEAAFCNAAxChYe+bnTw1aXStnWo9HwTviMAAAhlBGAQ2nbgZJO/5/8tOMwsIAAAkEQABp3jngtaseNIk79vjuu4nFkf6A8fHuC5gQAAGI67gINM4aGvm/X9s9Z9rl+v+1y2uEEEAABThdUM4JIlS9S9e3e1atVKAwYM0JYtW666fl5engYMGKBWrVrpxhtv1KuvvuqnkV7Z6QsVzb6P6u8XVtnSnNWfMRMIAIBhwiYAV61apRkzZujJJ5/U7t27NXjwYP34xz9WSUlJnesXFxfr7rvv1uDBg7V792796le/0qOPPqr33nvPzyO/jJ8fylNlS29+XOzfnQIAgIAKm+cADho0SD/4wQ/0yiuv+Jb16tVL9957r7Kysmqt/8QTT2jt2rUqKiryLZs2bZo++eQTbdu2rV77bI7nCL29rVjP/GlPk7xXfUVI+njOXTwwGgBgBJ4DGCYzgOXl5dq5c6cyMjJqLM/IyNDWrVvr3Gbbtm211h82bJgKCwtVUVH3ZdiysjJ5vd4ar6bmcDiuvVITq5J4TAwAAAYJiwAsLS1VZWWlOnfuXGN5586d5Xa769zG7XbXuf7FixdVWlpa5zZZWVmyLMv3SkxMbJoD+JbvtGnZ5O95LREOKSm2jd/3CwAAAiMsArDa5bNntm1fdUatrvXrWl5tzpw58ng8vteRI03/uJYB3b4jf88B3vYfsb7LvzwiBgCA8BcWj4GJjY1VZGRkrdm+EydO1Jrlq9alS5c614+KilLHjh3r3CY6OlrR0dFNM+griLda69f3p9T4VXDN7aN/Xgq+D/d9pTmrP1OVzSNiAAAIZ2ExA9iyZUsNGDBAGzdurLF848aNSk9Pr3Mbp9NZa/0NGzZo4MCBatGiRbONtT7G33qDts65S726tPPL/qpsafWuo774q17G7xAGACA8hUUAStKsWbP02muv6Y033lBRUZFmzpypkpISTZs2TdKly7eTJk3yrT9t2jQdPnxYs2bNUlFRkd544w29/vrr+sUvfhGoQ6gh3mqtN6ak+u1y8G/W7/PFXzV+hzAAAOEpLC4BS9L48eN18uRJPffcczp+/Lj69OmjdevWqVu3bpKk48eP13gmYPfu3bVu3TrNnDlTixcvVkJCghYuXKj7778/UIdQS/Xl4F+t/rsqA/C0nkiHg5tDAAAIQ2HzHMBA8NdzhI57LmjnoVOa/sfdzbaPy0U6HHpxTB++AwgACDs8BzCMZgDDWbzVWt9td85v+3t6RC/d3TeeB0MDABCmwuY7gOGue2xbRfjhC4ERDhF/AACEOQIwRMRbrZU1JkWR/3pGYaTDoZ+md2vy/Tzx42TiDwCAMMcl4BAy/tYbdHuPTjpUel5JsW1UXHpOy7YebrL3v++WBD18+01N9n4AACA4EYAhJt5qXWOGziE12QOj/7NX3Q/NBgAA4YVLwCEs3mqt2T9ObpL3ckgakPSdJnkvAAAQ3JgBDHEP33GT5JDm//XzWg9yrq8ISVn3p/DdPwAADEEAhoGHb79Jo/ol6FDpebVpGaFPj3pUerZMfbtaeuitnTUuETskLZrYXz/odmm2r/r7hMQfAADmIADDxLe/G9gv8d+Xcr/9m0SqH+48om9Cje0AAIBZCMAwd/mdwwQfAAAgAA1w+Z3DAADAbNwFDAAAYBgCEAAAwDAEIAAAgGEIQAAAAMMQgAAAAIYhAAEAAAxDAAIAABiGAAQAADAMAQgAAGAYAhAAAMAwBCAAAIBhCEAAAADDEIAAAACGIQABAAAMQwACAAAYhgAEAAAwDAEIAABgGAIQAADAMAQgAACAYQhAAAAAwxCAAAAAhiEAAQAADEMAAgAAGIYABAAAMAwBCAAAYBgCEAAAwDAEIAAAgGEIQAAAAMMQgAAAAIYhAAEAAAxDAAIAABiGAAQAADBMWATgqVOnlJmZKcuyZFmWMjMzdfr06SuuX1FRoSeeeEIpKSlq27atEhISNGnSJB07dsx/gwYAAAiQsAjAiRMnyuVyKTc3V7m5uXK5XMrMzLzi+ufPn9euXbv09NNPa9euXVq9erX27dunUaNG+XHUAAAAgeGwbdsO9CCuR1FRkXr37q38/HwNGjRIkpSfny+n06nPP/9cPXv2rNf7FBQUKDU1VYcPH9YNN9xQr228Xq8sy5LH41FMTEyjjwEAAPgPn99hMAO4bds2WZbliz9JSktLk2VZ2rp1a73fx+PxyOFwqEOHDs0wSgAAgOARFegBXC+32624uLhay+Pi4uR2u+v1Ht98841mz56tiRMnXvVfAmVlZSorK/P97PV6Gz5gAACAAAvaGcC5c+fK4XBc9VVYWChJcjgctba3bbvO5ZerqKjQhAkTVFVVpSVLllx13aysLN+NJpZlKTExsXEHBwAAEEBBOwM4ffp0TZgw4arrJCUl6dNPP9WXX35Z68+++uorde7c+arbV1RU6IEHHlBxcbE++OCDa34PYM6cOZo1a5bvZ6/XSwQCAICQE7QBGBsbq9jY2Guu53Q65fF4tGPHDqWmpkqStm/fLo/Ho/T09CtuVx1/+/fv16ZNm9SxY8dr7is6OlrR0dH1PwgAAIAgFLSXgOurV69eGj58uKZOnar8/Hzl5+dr6tSpGjlyZI07gJOTk5WTkyNJunjxosaOHavCwkJlZ2ersrJSbrdbbrdb5eXlgToUAAAAvwj5AJSk7OxspaSkKCMjQxkZGerbt6+WL19eY529e/fK4/FIko4ePaq1a9fq6NGjuuWWWxQfH+97NeTOYQAAgFAU8s8BDCSeIwQAQOjh8ztMZgABAABQfwQgAACAYQhAAAAAwxCAAAAAhiEAAQAADEMAAgAAGIYABAAAMAwBCAAAYBgCEAAAwDAEIAAAgGEIQAAAAMMQgAAAAIYhAAEAAAxDAAIAABiGAAQAADAMAQgAAGAYAhAAAMAwBCAAAIBhCEAAAADDEIAAAACGIQABAAAMQwACAAAYhgAEAAAwDAEIAABgGAIQAADAMAQgAACAYQhAAAAAwxCAAAAAhiEAAQAADEMAAgAAGIYABAAAMAwBCAAAYBgCEAAAwDAEIAAAgGEIQAAAAMMQgAAAAIYhAAEAAAxDAAIAABiGAAQAADAMAQgAAGAYAhAAAMAwBCAAAIBhCEAAAADDEIAAAACGCYsAPHXqlDIzM2VZlizLUmZmpk6fPl3v7R9++GE5HA69/PLLzTZGAACAYBEWAThx4kS5XC7l5uYqNzdXLpdLmZmZ9dp2zZo12r59uxISEpp5lAAAAMEhKtADuF5FRUXKzc1Vfn6+Bg0aJElaunSpnE6n9u7dq549e15x2y+++ELTp0/X+vXrNWLECH8NGQAAIKBCfgZw27ZtsizLF3+SlJaWJsuytHXr1ituV1VVpczMTD3++OP6/ve/74+hAgAABIWQnwF0u92Ki4urtTwuLk5ut/uK282fP19RUVF69NFH672vsrIylZWV+X72er0NGywAAEAQCNoZwLlz58rhcFz1VVhYKElyOBy1trdtu87lkrRz5079/ve/17Jly664Tl2ysrJ8N5pYlqXExMTGHRwAAEAAOWzbtgM9iLqUlpaqtLT0quskJSVpxYoVmjVrVq27fjt06KDf/e53mjJlSq3tXn75Zc2aNUsREf/u38rKSkVERCgxMVGHDh2qc391zQAmJibK4/EoJiam/gcHAAACxuv1yrIsoz+/g/YScGxsrGJjY6+5ntPplMfj0Y4dO5SamipJ2r59uzwej9LT0+vcJjMzU0OHDq2xbNiwYcrMzKwzGKtFR0crOjq6AUcBAAAQfII2AOurV69eGj58uKZOnao//OEPkqSf//znGjlyZI07gJOTk5WVlaX77rtPHTt2VMeOHWu8T4sWLdSlS5er3jUMAAAQDoL2O4ANkZ2drZSUFGVkZCgjI0N9+/bV8uXLa6yzd+9eeTyeAI0QAAAgeATtdwBDAd8hAAAg9PD5HSYzgAAAAKg/AhAAAMAwBCAAAIBhCEAAAADDEIAAAACGIQABAAAMQwACAAAYhgAEAAAwDAEIAABgGAIQAADAMAQgAACAYQhAAAAAwxCAAAAAhiEAAQAADEMAAgAAGIYABAAAMAwBCAAAYBgCEAAAwDAEIAAAgGEIQAAAAMMQgAAAAIYhAAEAAAxDAAIAABiGAAQAADAMAQgAAGAYAhAAAMAwBCAAAIBhCEAAAADDEIAAAACGIQABAAAMQwACAAAYhgAEAAAwDAEIAABgGAIQAADAMAQgAACAYQhAAAAAwxCAAAAAhiEAAQAADEMAAgAAGIYABAAAMAwBCAAAYBgCEAAAwDAEIAAAgGEIQAAAAMOERQCeOnVKmZmZsixLlmUpMzNTp0+fvuZ2RUVFGjVqlCzLUvv27ZWWlqaSkpLmHzAAAEAAhUUATpw4US6XS7m5ucrNzZXL5VJmZuZVtzlw4IBuu+02JScna/Pmzfrkk0/09NNPq1WrVn4aNQAAQGA4bNu2Az2I61FUVKTevXsrPz9fgwYNkiTl5+fL6XTq888/V8+ePevcbsKECWrRooWWL1/e6H17vV5ZliWPx6OYmJhGvw8AAPAfPr/DYAZw27ZtsizLF3+SlJaWJsuytHXr1jq3qaqq0l/+8hf16NFDw4YNU1xcnAYNGqQ1a9b4adQAAACBE/IB6Ha7FRcXV2t5XFyc3G53nducOHFCZ8+e1a9//WsNHz5cGzZs0H333acxY8YoLy/vivsqKyuT1+ut8QIAAAg1QRuAc+fOlcPhuOqrsLBQkuRwOGptb9t2nculSzOAkjR69GjNnDlTt9xyi2bPnq2RI0fq1VdfveKYsrKyfDeaWJalxMTEJjhSAAAA/4oK9ACuZPr06ZowYcJV10lKStKnn36qL7/8stafffXVV+rcuXOd28XGxioqKkq9e/eusbxXr1766KOPrri/OXPmaNasWb6fvV4vEQgAAEJO0AZgbGysYmNjr7me0+mUx+PRjh07lJqaKknavn27PB6P0tPT69ymZcuWuvXWW7V3794ay/ft26du3bpdcV/R0dGKjo5uwFEAAAAEn6C9BFxfvXr10vDhwzV16lTl5+crPz9fU6dO1ciRI2vcAZycnKycnBzfz48//rhWrVqlpUuX6p///KcWLVqk999/X4888kggDgMAAMBvQj4AJSk7O1spKSnKyMhQRkaG+vbtW+vxLnv37pXH4/H9fN999+nVV1/VggULlJKSotdee03vvfeebrvtNn8PHwAAwK9C/jmAgcRzhAAACD18fofJDCAAAADqjwAEAAAwDAEIAABgGAIQAADAMAQgAACAYQhAAAAAwxCAAAAAhiEAAQAADEMAAgAAGIYABAAAMAwBCAAAYBgCEAAAwDAEIAAAgGEIQAAAAMMQgAAAAIYhAAEAAAxDAAIAABiGAAQAADAMAQgAAGAYAhAAAMAwBCAAAIBhCEAAAADDEIAAAACGIQABAAAMQwACAAAYhgAEAAAwDAEIAABgGAIQAADAMAQgAACAYQhAAAAAwxCAAAAAhiEAAQAADEMAAgAAGIYABAAAMAwBCAAAYBgCEAAAwDAEIAAAgGEIQAAAAMMQgAAAAIYhAAEAAAxDAAIAABiGAAQAADAMAQgAAGAYAhAAAMAwYRGAp06dUmZmpizLkmVZyszM1OnTp6+6zdmzZzV9+nR17dpVrVu3Vq9evfTKK6/4Z8AAAAABFBYBOHHiRLlcLuXm5io3N1cul0uZmZlX3WbmzJnKzc3VO++8o6KiIs2cOVP//d//rT/96U9+GjUAAEBghHwAFhUVKTc3V6+99pqcTqecTqeWLl2qP//5z9q7d+8Vt9u2bZsmT56sIUOGKCkpST//+c/Vr18/FRYW+nH0AAAA/hfyAbht2zZZlqVBgwb5lqWlpcmyLG3duvWK2912221au3atvvjiC9m2rU2bNmnfvn0aNmyYP4YNAAAQMFGBHsD1crvdiouLq7U8Li5Obrf7itstXLhQU6dOVdeuXRUVFaWIiAi99tpruu222664TVlZmcrKynw/e73e6xs8AABAAATtDODcuXPlcDiu+qq+XOtwOGptb9t2ncurLVy4UPn5+Vq7dq127typ3/72t3rkkUf0t7/97YrbZGVl+W40sSxLiYmJ13+gAAAAfuawbdsO9CDqUlpaqtLS0quuk5SUpBUrVmjWrFm17vrt0KGDfve732nKlCm1trtw4YIsy1JOTo5GjBjhW/7QQw/p6NGjys3NrXN/dc0AJiYmyuPxKCYmpgFHBwAAAsXr9cqyLKM/v4P2EnBsbKxiY2OvuZ7T6ZTH49GOHTuUmpoqSdq+fbs8Ho/S09Pr3KaiokIVFRWKiKg5ARoZGamqqqor7is6OlrR0dENOAoAAIDgE7SXgOurV69eGj58uKZOnar8/Hzl5+dr6tSpGjlypHr27OlbLzk5WTk5OZKkmJgY3XHHHXr88ce1efNmFRcXa9myZXr77bd13333BepQAAAA/CJoZwAbIjs7W48++qgyMjIkSaNGjdKiRYtqrLN37155PB7fzytXrtScOXP04IMP6uuvv1a3bt30wgsvaNq0aX4dOwAAgL8F7XcAQwHfIQAAIPTw+R0Gl4ABAADQMAQgAACAYQhAAAAAwxCAAAAAhiEAAQAADEMAAgAAGIYABAAAMAwBCAAAYBgCEAAAwDAEIAAAgGEIQAAAAMMQgAAAAIYhAAEAAAxDAAIAABiGAAQAADAMAQgAAGAYAhAAAMAwBCAAAIBhCEAAAADDEIAAAACGIQABAAAMQwACAAAYhgAEAAAwDAEIAABgGAIQAADAMAQgAACAYQhAAAAAwxCAAAAAhiEAAQAADEMAAgAAGIYABAAAMAwBCAAAYBgCEAAAwDAEIAAAgGEIQAAAAMMQgAAAAIYhAAEAAAxDAAIAABiGAAQAADAMAQgAAGAYAhAAAMAwBCAAAIBhCEAAAADDEIAAAACGCYsAfOGFF5Senq42bdqoQ4cO9drGtm3NnTtXCQkJat26tYYMGaJ//OMfzTtQAACAIBAWAVheXq5x48bpv/7rv+q9zYIFC/TSSy9p0aJFKigoUJcuXfSjH/1IZ86cacaRAgAABF5YBOC8efM0c+ZMpaSk1Gt927b18ssv68knn9SYMWPUp08fvfXWWzp//rxWrFjRzKMFAAAIrLAIwIYqLi6W2+1WRkaGb1l0dLTuuOMObd269YrblZWVyev11ngBAACEGiMD0O12S5I6d+5cY3nnzp19f1aXrKwsWZbleyUmJjbrOAEAAJpD0Abg3Llz5XA4rvoqLCy8rn04HI4aP9u2XWvZt82ZM0cej8f3OnLkyHXtHwAAIBCiAj2AK5k+fbomTJhw1XWSkpIa9d5dunSRdGkmMD4+3rf8xIkTtWYFvy06OlrR0dGN2icAAECwCNoAjI2NVWxsbLO8d/fu3dWlSxdt3LhR/fv3l3TpTuK8vDzNnz+/WfYJAAAQLIL2EnBDlJSUyOVyqaSkRJWVlXK5XHK5XDp79qxvneTkZOXk5Ei6dOl3xowZevHFF5WTk6O///3v+ulPf6o2bdpo4sSJgToMAAAAvwjaGcCGeOaZZ/TWW2/5fq6e1du0aZOGDBkiSdq7d688Ho9vnV/+8pe6cOGCHnnkEZ06dUqDBg3Shg0b1L59e7+OHQAAwN8ctm3bgR5EqPJ6vbIsSx6PRzExMYEeDgAAqAc+v8PkEjAAAADqjwAEAAAwDAEIAABgGAIQAADAMAQgAACAYQhAAAAAwxCAAAAAhiEAAQAADEMAAgAAGIYABAAAMAwBCAAAYBgCEAAAwDAEIAAAgGEIQAAAAMMQgAAAAIYhAAEAAAxDAAIAABiGAAQAADAMAQgAAGAYAhAAAMAwBCAAAIBhCEAAAOAXxz0XtPVAqY57LgR6KMaLCvQAAABAeDvuuaA3PirW6x8Vq8qWIhxS1pgUjb/1Bh33XFBx6Tl1j22reKu1b/3Ll6FpEYAAAKBJXB5unxw5pd//v/364POvaqxXZUtzVn+mT46c1h93HJGtS1H4X0Nu0qHSc1r3mdu3rDoU0bQctm3bgR5EqPJ6vbIsSx6PRzExMYEeDgAAfnN57K0qKNGc1Z+p6l9V0aldS311tvy69xPpcOij2Xc26Uwgn9/MAAIAgAb6duxFOKRJzm5atvVwjXWaIv4kqdK2daj0PJeCmxg3gQAAgHo77rlQY6avylat+GtKkQ6HkmLbNNv7m4oABAAA9fa3oi998ecPL47pw+xfM+ASMAAAqJf/839dem/XF37b32P/+R/cANJMmAEEAADX9MmRU36NP0m6KznOr/szCQEIAACu6rjngl5cV+TXfd7Vs5POlVfy0OhmwiVgAABQS/VjXrb+s1SLNx2Qv58Zt2nvV/pg71c8C7CZEIAAAKCGy5/pFwjVu66ypdmrP9PtPTpxM0gT4hIwAADwufwxL8HAtqVdh08FehhhhQAEAAA+xaXngir+qvF7y5oWAQgAAHy6x7ZVhCPQo6jJIWlA0ncCPYywQgACAACfeKu1ssakBHQM3+7PCEm/vj+F7/81MW4CAQAANYy/9QZFOKTH3/3M7/v++e3dNeWH3SVJh0rPKym2DfHXDAhAAABQy/e+49/fvzso6Tt6+Sf9a8Qe4dd8uAQMAABqadsyUg4/fRfQIdWKPzQvAhAAANSwqqBE9y3Z6rc7b21dutwL/yEAAQCATyCeAxjpcCgp1r+XnE1HAAIAAJ8rPQfw3n4JTbaPO3t2UuS/ri9HOhx6cUwfLv/6GTeBAAAAn+rnAH47AiMdDj1xd7KeuDtZz/+5SH/57Hid274+eYB+9tbOa+7jw32lWv2IU+fLq7jLN0DCYgbwhRdeUHp6utq0aaMOHTpcc/2Kigo98cQTSklJUdu2bZWQkKBJkybp2LFjzT9YAACCWPVzAOuaoYu3Wuupkb1U170hc+5OVuuW9ZtXqrRtnS+vkvOmjsRfgITFDGB5ebnGjRsnp9Op119//Zrrnz9/Xrt27dLTTz+tfv366dSpU5oxY4ZGjRqlwsJCP4wYAIDgNf7WG3R7j051Pocv3mqtX9+fol+t/rsqbVsRkp74cbIevv0mHfdcqDV7GOG49Gvcvn1Vme/8BZ7DtsPnt+stW7ZMM2bM0OnTpxu8bUFBgVJTU3X48GHdcMMN9drG6/XKsix5PB7FxMQ0eJ8AAISq454LdQbiqoISXxxWzx5KqrVs/K31+6xtDnx+h8kMYFPweDxyOBxXvYRcVlamsrIy389er9cPIwMAIPhUXxK+3JVmD680o4jAIAAlffPNN5o9e7YmTpx41X8JZGVlad68eX4cGQAAoaeuOLxSMCIwgvYmkLlz58rhcFz11RTf16uoqNCECRNUVVWlJUuWXHXdOXPmyOPx+F5Hjhy57v0DAAD4W9DOAE6fPl0TJky46jpJSUnXtY+Kigo98MADKi4u1gcffHDN7wFER0crOjr6uvYJAAAQaEEbgLGxsYqNjW2296+Ov/3792vTpk3q2LFjs+0LAAAgmATtJeCGKCkpkcvlUklJiSorK+VyueRyuXT27FnfOsnJycrJyZEkXbx4UWPHjlVhYaGys7NVWVkpt9stt9ut8vLyQB0GAACAXwTtDGBDPPPMM3rrrbd8P/fv31+StGnTJg0ZMkSStHfvXnk8HknS0aNHtXbtWknSLbfcUuO9vr0NAABAOAqr5wD6G88RAgAg9PD5HSaXgAEAAFB/BCAAAIBhCEAAAADDEIAAAACGIQABAAAMExaPgQmU6huovV5vgEcCAADqq/pz2+QHoRCA1+HMmTOSpMTExACPBAAANNSZM2dkWVaghxEQPAfwOlRVVenYsWNq3769HA5HoIdzRV6vV4mJiTpy5IixzztqCpzHpsO5bDqcy6bBeWw6oXAubdvWmTNnlJCQoIgIM78NxwzgdYiIiFDXrl0DPYx6i4mJCdr/M4YSzmPT4Vw2Hc5l0+A8Np1gP5emzvxVMzN7AQAADEYAAgAAGIYANEB0dLSeffZZRUdHB3ooIY3z2HQ4l02Hc9k0OI9Nh3MZGrgJBAAAwDDMAAIAABiGAAQAADAMAQgAAGAYAhAAAMAwBGAYWLJkibp3765WrVppwIAB2rJly1XXz8vL04ABA9SqVSvdeOONevXVV/000uDXkHO5evVq/ehHP1KnTp0UExMjp9Op9evX+3G0wa2hfy+rffzxx4qKitItt9zSvAMMEQ09j2VlZXryySfVrVs3RUdH66abbtIbb7zhp9EGt4aey+zsbPXr109t2rRRfHy8pkyZopMnT/pptMHpww8/1D333KOEhAQ5HA6tWbPmmtvwmROkbIS0lStX2i1atLCXLl1q79mzx37sscfstm3b2ocPH65z/YMHD9pt2rSxH3vsMXvPnj320qVL7RYtWtjvvvuun0cefBp6Lh977DF7/vz59o4dO+x9+/bZc+bMsVu0aGHv2rXLzyMPPg09l9VOnz5t33jjjXZGRobdr18//ww2iDXmPI4aNcoeNGiQvXHjRru4uNjevn27/fHHH/tx1MGpoedyy5YtdkREhP373//ePnjwoL1lyxb7+9//vn3vvff6eeTBZd26dfaTTz5pv/fee7YkOycn56rr85kTvAjAEJeammpPmzatxrLk5GR79uzZda7/y1/+0k5OTq6x7OGHH7bT0tKabYyhoqHnsi69e/e2582b19RDCzmNPZfjx4+3n3rqKfvZZ58lAO2Gn8e//vWvtmVZ9smTJ/0xvJDS0HP5m9/8xr7xxhtrLFu4cKHdtWvXZhtjqKlPAPKZE7y4BBzCysvLtXPnTmVkZNRYnpGRoa1bt9a5zbZt22qtP2zYMBUWFqqioqLZxhrsGnMuL1dVVaUzZ87ou9/9bnMMMWQ09ly++eabOnDggJ599tnmHmJIaMx5XLt2rQYOHKgFCxboe9/7nnr06KFf/OIXunDhgj+GHLQacy7T09N19OhRrVu3TrZt68svv9S7776rESNG+GPIYYPPnOAVFegBoPFKS0tVWVmpzp0711jeuXNnud3uOrdxu911rn/x4kWVlpYqPj6+2cYbzBpzLi/329/+VufOndMDDzzQHEMMGY05l/v379fs2bO1ZcsWRUXxnyWpcefx4MGD+uijj9SqVSvl5OSotLRUjzzyiL7++mujvwfYmHOZnp6u7OxsjR8/Xt98840uXryoUaNG6X/+53/8MeSwwWdO8GIGMAw4HI4aP9u2XWvZtdava7mJGnouq/3xj3/U3LlztWrVKsXFxTXX8EJKfc9lZWWlJk6cqHnz5qlHjx7+Gl7IaMjfyaqqKjkcDmVnZys1NVV33323XnrpJS1btsz4WUCpYedyz549evTRR/XMM89o586dys3NVXFxsaZNm+aPoYYVPnOCE//UDmGxsbGKjIys9S/YEydO1PoXV7UuXbrUuX5UVJQ6duzYbGMNdo05l9VWrVqln/3sZ/rf//1fDR06tDmHGRIaei7PnDmjwsJC7d69W9OnT5d0KWRs21ZUVJQ2bNigu+66yy9jDyaN+TsZHx+v733ve7Isy7esV69esm1bR48e1c0339ysYw5WjTmXWVlZ+uEPf6jHH39cktS3b1+1bdtWgwcP1vPPP8/MVT3xmRO8mAEMYS1bttSAAQO0cePGGss3btyo9PT0OrdxOp211t+wYYMGDhyoFi1aNNtYg11jzqV0aebvpz/9qVasWMF3g/6loecyJiZGn332mVwul+81bdo09ezZUy6XS4MGDfLX0INKY/5O/vCHP9SxY8d09uxZ37J9+/YpIiJCXbt2bdbxBrPGnMvz588rIqLmR2RkZKSkf89g4dr4zAliAbr5BE2k+tEGr7/+ur1nzx57xowZdtu2be1Dhw7Ztm3bs2fPtjMzM33rV9+SP3PmTHvPnj3266+/zi35/9LQc7lixQo7KirKXrx4sX38+HHf6/Tp04E6hKDR0HN5Oe4CvqSh5/HMmTN2165d7bFjx9r/+Mc/7Ly8PPvmm2+2H3rooUAdQtBo6Ll888037aioKHvJkiX2gQMH7I8++sgeOHCgnZqaGqhDCApnzpyxd+/ebe/evduWZL/00kv27t27fY/T4TMndBCAYWDx4sV2t27d7JYtW9o/+MEP7Ly8PN+fTZ482b7jjjtqrL9582a7f//+dsuWLe2kpCT7lVde8fOIg1dDzuUdd9xhS6r1mjx5sv8HHoQa+vfy2wjAf2voeSwqKrKHDh1qt27d2u7atas9a9Ys+/z5834edXBq6LlcuHCh3bt3b7t169Z2fHy8/eCDD9pHjx7186iDy6ZNm6763z0+c0KHw7aZywYAADAJ3wEEAAAwDAEIAABgGAIQAADAMAQgAACAYQhAAAAAwxCAAAAAhiEAAQAADEMAAgCAoPLhhx/qnnvuUUJCghwOh9asWdPg91i/fr3S0tLUvn17derUSffff7+Ki4ubfrAhigAEAABB5dy5c+rXr58WLVrUqO0PHjyo0aNH66677pLL5dL69etVWlqqMWPGNPFIQxe/CQQAAAQth8OhnJwc3Xvvvb5l5eXleuqpp5Sdna3Tp0+rT58+mj9/voYMGSJJevfdd/WTn/xEZWVlioi4NNf1/vvva/To0SorK1OLFi0CcCTBhRlAAAAQUqZMmaKPP/5YK1eu1Keffqpx48Zp+PDh2r9/vyRp4MCBioyM1JtvvqnKykp5PB4tX75cGRkZxN+/MAMIAACC1uUzgAcOHNDNN9+so0ePKiEhwbfe0KFDlZqaqhdffFHSpe8Rjhs3TidPnlRlZaWcTqfWrVunDh06BOAogg8zgAAAIGTs2rVLtm2rR48eateune+Vl5enAwcOSJLcbrceeughTZ48WQUFBcrLy1PLli01duxYMe91SVSgBwAAAFBfVVVVioyM1M6dOxUZGVnjz9q1aydJWrx4sWJiYrRgwQLfn73zzjtKTEzU9u3blZaW5tcxByMCEAAAhIz+/fursrJSJ06c0ODBg+tc5/z587XisPrnqqqqZh9jKOASMAAACCpnz56Vy+WSy+WSJBUXF8vlcqmkpEQ9evTQgw8+qEmTJmn16tUqLi5WQUGB5s+fr3Xr1kmSRowYoYKCAj333HPav3+/du3apSlTpqhbt27q379/AI8seHATCAAACCqbN2/WnXfeWWv55MmTtWzZMlVUVOj555/X22+/rS+++EIdO3aU0+nUvHnzlJKSIklauXKlFixYoH379qlNmzZyOp2aP3++kpOT/X04QYkABAAAMAyXgAEAAAxDAAIAABiGAAQAADAMAQgAAGAYAhAAAMAwBCAAAIBhCEAAAADDEIAAAACGIQABAAAMQwACAAAYhgAEAAAwDAEIAABgGAIQAADAMP8fWNCvV8brhwgAAAAASUVORK5CYII=' width=640.0/>\n",
       "            </div>\n",
       "        "
      ],
      "text/plain": [
       "Canvas(toolbar=Toolbar(toolitems=[('Home', 'Reset original view', 'home', 'home'), ('Back', 'Back to previous …"
      ]
     },
     "metadata": {},
     "output_type": "display_data"
    }
   ],
   "source": [
    "%matplotlib widget\n",
    "iq=i_rcal.s11[5][:,:,0].reshape((-1,1))\n",
    "plt.plot(iq.real,iq.imag,'.')\n",
    "#plt.xlim((0,1e6))\n"
   ]
  },
  {
   "cell_type": "code",
   "execution_count": null,
   "id": "d71df3d5",
   "metadata": {},
   "outputs": [],
   "source": []
  }
 ],
 "metadata": {
  "kernelspec": {
   "display_name": "Python 3 (ipykernel)",
   "language": "python",
   "name": "python3"
  },
  "language_info": {
   "codemirror_mode": {
    "name": "ipython",
    "version": 3
   },
   "file_extension": ".py",
   "mimetype": "text/x-python",
   "name": "python",
   "nbconvert_exporter": "python",
   "pygments_lexer": "ipython3",
   "version": "3.10.4"
  }
 },
 "nbformat": 4,
 "nbformat_minor": 5
}
