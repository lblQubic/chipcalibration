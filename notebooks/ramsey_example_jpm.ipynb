{
 "cells": [
  {
   "cell_type": "code",
   "execution_count": 36,
   "metadata": {
    "collapsed": true,
    "ExecuteTime": {
     "end_time": "2023-05-08T01:00:31.208158342Z",
     "start_time": "2023-05-08T01:00:31.112080801Z"
    }
   },
   "outputs": [],
   "source": [
    "from importlib import reload\n",
    "import qubic.job_manager_jpm as _jm\n",
    "import chipcalibration.ramsey_jpm as _ramsey\n",
    "from matplotlib import pyplot as plt\n",
    "from distproc.hwconfig import FPGAConfig, load_channel_configs\n",
    "import chipcalibration.config as _cfg\n",
    "import qubic.rpc_client as _rc\n",
    "import numpy as np\n",
    "import pygsti\n",
    "from pygsti.models import modelconstruction as _mc"
   ]
  },
  {
   "cell_type": "code",
   "execution_count": 37,
   "outputs": [
    {
     "data": {
      "text/plain": "<module 'chipcalibration.ramsey_jpm' from '/home/jpmarceaux/PycharmProjects/chipcalibration/chipcalibration/ramsey_jpm.py'>"
     },
     "execution_count": 37,
     "metadata": {},
     "output_type": "execute_result"
    }
   ],
   "source": [
    "reload(_jm)\n",
    "reload(_ramsey)"
   ],
   "metadata": {
    "collapsed": false,
    "ExecuteTime": {
     "end_time": "2023-05-08T01:00:31.488863452Z",
     "start_time": "2023-05-08T01:00:31.402498442Z"
    }
   }
  },
  {
   "cell_type": "code",
   "execution_count": 38,
   "outputs": [],
   "source": [
    "fpga_config = FPGAConfig(**{'fpga_clk_period': 2.e-9, 'alu_instr_clks': 5, 'jump_cond_clks': 5, 'jump_fproc_clks': 5,\n",
    "                            'pulse_regwrite_clks': 3})\n",
    "\n",
    "qchipname = 'X4Y2'\n",
    "fpga_config, qchip, channel_config = _cfg.load_configs(qchipname, qchip_file='qubitcfg.json')\n",
    "\n"
   ],
   "metadata": {
    "collapsed": false,
    "ExecuteTime": {
     "end_time": "2023-05-08T01:00:31.870816086Z",
     "start_time": "2023-05-08T01:00:31.758201121Z"
    }
   }
  },
  {
   "cell_type": "code",
   "execution_count": 39,
   "outputs": [],
   "source": [
    "# setup a qubic jobmanager\n",
    "runner = _rc.CircuitRunnerClient(ip='192.168.1.247')\n",
    "jm = _jm.JobManager(fpga_config, channel_config, runner)"
   ],
   "metadata": {
    "collapsed": false,
    "ExecuteTime": {
     "end_time": "2023-05-08T01:00:32.672471438Z",
     "start_time": "2023-05-08T01:00:32.581690061Z"
    }
   }
  },
  {
   "cell_type": "code",
   "execution_count": 46,
   "outputs": [
    {
     "name": "stdout",
     "output_type": "stream",
     "text": [
      "Initial drive frequency: 4943277065.23312\n"
     ]
    }
   ],
   "source": [
    "target_qid = 'Q2'\n",
    "readout_register = ['Q1', 'Q2']\n",
    "delay_interval = np.linspace(0,50.e-6,75)\n",
    "initial_drive_frequency = qchip.qubits['Q2'].freq\n",
    "print('Initial drive frequency:', initial_drive_frequency)"
   ],
   "metadata": {
    "collapsed": false,
    "ExecuteTime": {
     "end_time": "2023-05-08T01:01:34.861617116Z",
     "start_time": "2023-05-08T01:01:34.779901118Z"
    }
   }
  },
  {
   "cell_type": "code",
   "execution_count": 49,
   "outputs": [],
   "source": [
    "iramsey = _ramsey.RamseyExperiment([target_qid], readout_register, delay_interval, initial_drive_frequency)"
   ],
   "metadata": {
    "collapsed": false,
    "ExecuteTime": {
     "end_time": "2023-05-08T01:02:29.367724158Z",
     "start_time": "2023-05-08T01:02:29.304173610Z"
    }
   }
  }
 ],
 "metadata": {
  "kernelspec": {
   "display_name": "Python 3",
   "language": "python",
   "name": "python3"
  },
  "language_info": {
   "codemirror_mode": {
    "name": "ipython",
    "version": 2
   },
   "file_extension": ".py",
   "mimetype": "text/x-python",
   "name": "python",
   "nbconvert_exporter": "python",
   "pygments_lexer": "ipython2",
   "version": "2.7.6"
  }
 },
 "nbformat": 4,
 "nbformat_minor": 0
}
